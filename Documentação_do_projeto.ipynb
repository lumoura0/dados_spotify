{
  "nbformat": 4,
  "nbformat_minor": 0,
  "metadata": {
    "colab": {
      "provenance": []
    },
    "kernelspec": {
      "display_name": "Python 3",
      "name": "python3"
    }
  },
  "cells": [
    {
      "cell_type": "markdown",
      "metadata": {
        "id": "view-in-github"
      },
      "source": [
        "<a href=\"https://colab.research.google.com/drive/1ZPWjU5vXgulQUjTW4VSHmRH8YIsEKiQH?authuser=1#scrollTo=view-in-github\" target=\"_parent\"><img src=\"https://colab.research.google.com/assets/colab-badge.svg\" alt=\"Open In Colab\"/></a>"
      ]
    },
    {
      "cell_type": "markdown",
      "metadata": {
        "id": "9X9knpxb626V"
      },
      "source": [
        "# **Análise de Dados do Spotify**"
      ]
    },
    {
      "cell_type": "markdown",
      "metadata": {
        "id": "puLfSxcC2Ph4"
      },
      "source": [
        "## **Objetivo do projeto:**"
      ]
    },
    {
      "cell_type": "markdown",
      "metadata": {
        "id": "5sNePf9A2Xw5"
      },
      "source": [
        "O objetivo desse projeto é que seja feita uma análise de dados dos álbuns do spotify, passando pelas principais etapas de uma análise de dados. Coleta dos dados, pre-processamento, exploração e visualização dos dados."
      ]
    },
    {
      "cell_type": "markdown",
      "metadata": {
        "id": "cglPkECqlpkK"
      },
      "source": [
        "Um outro objetivo é que a partir das conclusões feitas da análise dos dados das músicas dos álbuns, seja identificado fatores que ajudam ou contribuem um álbum ou música a ter sucesso e como isso pode ser usado para futuros lançamentos."
      ]
    },
    {
      "cell_type": "markdown",
      "metadata": {
        "id": "tYrmm_k1c6Qn"
      },
      "source": [
        "## **Etapas do projeto**"
      ]
    },
    {
      "cell_type": "markdown",
      "metadata": {
        "id": "PgMwFTF8c9Xz"
      },
      "source": [
        "* Coleta do dados\n",
        "   1. Api do spotify\n",
        "   2. Dicionario dos dados\n",
        "   3. Importar os pacotes e dataset necessários\n",
        "   4. Leitura do arquivo\n",
        "\n",
        "* Limpeza e preparação dos dados\n",
        "    1. Renomear colunas\n",
        "    2. Verificar os tipos das colunas\n",
        "    3. Alterar os tipos de colunas\n",
        "    4. Verificar dados ausentes\n",
        "    5. Preencher dados ausentes\n",
        "    6. Corrigindo dados duplicados\n",
        "  \n",
        "* Exploração e visualização dos dados"
      ]
    },
    {
      "cell_type": "markdown",
      "metadata": {
        "id": "9LFe4_zLc6Ow"
      },
      "source": [
        "## **Coleta dos dados**\n",
        "\n"
      ]
    },
    {
      "cell_type": "markdown",
      "metadata": {
        "id": "9yODKiJhZKgG"
      },
      "source": [
        "A coleta de dados é a primeira etapa de todo projeto de Data Science, caso seja optado por não coletar um conjunto de dados já pronto, devemos procurar fontes de dados que possam ser uteis para construir nossa base de dados e das fontes extrair os dados."
      ]
    },
    {
      "cell_type": "markdown",
      "metadata": {
        "id": "GxWUAPc1erDS"
      },
      "source": [
        "Uma das formas mais famosas de coletar dados já prontos para realizar projetos é buscando em fontes confiaveis como kaggle ou portais governamentais, entretanto, o que queremos são dados que dificilmente encontrariamos na internet, além de se tratar de dados de um artista especifico, ainda assim é um artista que não possui grande popularidade."
      ]
    },
    {
      "cell_type": "markdown",
      "metadata": {
        "id": "0WFpfYtV3WwC"
      },
      "source": [
        "A primeira alternativa de coletarmos os dados seria fazendo o uso de web scraping, web scraping como o proprio nome já diz é a coleta de dados da web, ou raspagem web, sendo uma forma de mineração que permite a extração de dados de sites da web, convertendo-os em informação estruturada para posterior análise. Porém, com meu pouco conhecimento em web scraping, não sei se seria possivel coletar os dados do site do Spotify dessa forma.\n",
        "\n",
        "\n",
        "Por outro lado, temos uma seguda e mais viavel alternativa, apesar de não ser tão conhecida, o Spotify possui uma API onde podemos coletar e usar os dados de todos os artistas cadastrados no spotify ou até mesmo do próprio usuário. Porém, para coletar os dados fornecidos pela API do Spotify é necessário primeiro ter o acesso a API e depois se conectar com API e coletar os dados fornecidos. Logo, para ter acesso a API do Spotify precisamos criar uma aplicação web na [plataforma de desenvolvedores do Spotify](https://developer.spotify.com/dashboard/login) e resgatar o **Client_Id** e **Client_Secret**, feito isso, utilizaremos a biblioteca SpotiPy do Python para se conectar com a API (Através do Client_ID e Client_Secret) e conseguir, finalmente, coletar os dados do Spotify."
      ]
    },
    {
      "cell_type": "markdown",
      "metadata": {
        "id": "vEOrnBWY1WmV"
      },
      "source": [
        "A biblioteca SpotiPy tem o objetivo de que o usuário tenha acesso total a todos os dados musicais fornecidos pela plataforma Spotify. Com a biblioteca SpotiPy é possivel coletar as mais diversas informações de um artista do Spotify, seja informações das músicas do artista, dos álbuns ou até mesmo informações de catálogo do Spotify sobre artistas semelhantes ao artista identificado. Atráves\n",
        "da documentação da biblioteca você pode encontrar outras informações que podem ser possiveis de coletar do spotify e começar a aplicar na prática (https://spotipy.readthedocs.io/en/2.12.0/)."
      ]
    },
    {
      "cell_type": "markdown",
      "metadata": {
        "id": "Pa46dIo9wRTb"
      },
      "source": [
        "*Agradecimento especial a Dandara Sousa, as dicas passadas através do Linkedin e seu projeto de análise de dados e forró foram muito uteis para a construção desse projeto.*"
      ]
    },
    {
      "cell_type": "markdown",
      "metadata": {
        "id": "VZXPZ7YvYYjw"
      },
      "source": [
        "### **Coletar os dados da API do Spotify com a biblioteca SpotiPy**"
      ]
    },
    {
      "cell_type": "markdown",
      "metadata": {
        "id": "HeATvTkZsyNc"
      },
      "source": [
        "####**Criando conexão com a API através do SpotiPy**"
      ]
    },
    {
      "cell_type": "markdown",
      "metadata": {
        "id": "T2c0EvqBsdHG"
      },
      "source": [
        "A primeira coisa a se fazer é instalar corretamente a biblioteca SpotiPy que será utilizada para se conectar com a API e coletar os dados do Spotify fornecidos"
      ]
    },
    {
      "cell_type": "code",
      "metadata": {
        "id": "ywm1gR7sJ8TF",
        "colab": {
          "base_uri": "https://localhost:8080/"
        },
        "outputId": "21c174cb-2bb7-494f-8c82-b4e8e8af9e8c"
      },
      "source": [
        "#Instalar a biblioteca\n",
        "!pip install spotipy"
      ],
      "execution_count": null,
      "outputs": [
        {
          "output_type": "stream",
          "name": "stdout",
          "text": [
            "Collecting spotipy\n",
            "  Downloading spotipy-2.23.0-py3-none-any.whl (29 kB)\n",
            "Collecting redis>=3.5.3 (from spotipy)\n",
            "  Downloading redis-5.0.1-py3-none-any.whl (250 kB)\n",
            "\u001b[2K     \u001b[90m━━━━━━━━━━━━━━━━━━━━━━━━━━━━━━━━━━━━━━━━\u001b[0m \u001b[32m250.3/250.3 kB\u001b[0m \u001b[31m5.8 MB/s\u001b[0m eta \u001b[36m0:00:00\u001b[0m\n",
            "\u001b[?25hRequirement already satisfied: requests>=2.25.0 in /usr/local/lib/python3.10/dist-packages (from spotipy) (2.31.0)\n",
            "Requirement already satisfied: six>=1.15.0 in /usr/local/lib/python3.10/dist-packages (from spotipy) (1.16.0)\n",
            "Requirement already satisfied: urllib3>=1.26.0 in /usr/local/lib/python3.10/dist-packages (from spotipy) (2.0.7)\n",
            "Requirement already satisfied: async-timeout>=4.0.2 in /usr/local/lib/python3.10/dist-packages (from redis>=3.5.3->spotipy) (4.0.3)\n",
            "Requirement already satisfied: charset-normalizer<4,>=2 in /usr/local/lib/python3.10/dist-packages (from requests>=2.25.0->spotipy) (3.3.2)\n",
            "Requirement already satisfied: idna<4,>=2.5 in /usr/local/lib/python3.10/dist-packages (from requests>=2.25.0->spotipy) (3.4)\n",
            "Requirement already satisfied: certifi>=2017.4.17 in /usr/local/lib/python3.10/dist-packages (from requests>=2.25.0->spotipy) (2023.7.22)\n",
            "Installing collected packages: redis, spotipy\n",
            "Successfully installed redis-5.0.1 spotipy-2.23.0\n"
          ]
        }
      ]
    },
    {
      "cell_type": "markdown",
      "metadata": {
        "id": "648N_M09sjO_"
      },
      "source": [
        "Após isso, já podemos importar as bibliotecas que serão necessárias para coletar os dados, Spotipy e a biblioteca csv para ao final transformar os dados coletados em um arquivo csv."
      ]
    },
    {
      "cell_type": "code",
      "metadata": {
        "id": "56XPPzuXM_pk"
      },
      "source": [
        "#Importar as bibliotecas necessárias\n",
        "import spotipy\n",
        "import csv\n",
        "\n"
      ],
      "execution_count": null,
      "outputs": []
    },
    {
      "cell_type": "markdown",
      "metadata": {
        "id": "K5OhX_Ebsr7q"
      },
      "source": [
        "Chegou a hora de conectarmos com a API, para isso, importaremos o pacote de credenciais e passaremos as credenciais da aplicação web que foi criada na plataforma de desenvolvedores do Spotify, sendo o Client Id e Client Secret. A variável spot é o que nos conecta com API e permite coletarmos os dados do Spotify, então será muito útil."
      ]
    },
    {
      "cell_type": "code",
      "metadata": {
        "id": "zVn8RfEZJvwj"
      },
      "source": [
        "#Credenciais para conectar com a API\n",
        "from spotipy.oauth2 import SpotifyClientCredentials\n",
        "\n",
        "spot = spotipy.Spotify(client_credentials_manager = SpotifyClientCredentials(client_id=\"c7f1dc6cc0ae4d3086797301bd59dc68\", client_secret=\"e71cf5628e4947b6a764e868422db01e\"))"
      ],
      "execution_count": null,
      "outputs": []
    },
    {
      "cell_type": "markdown",
      "metadata": {
        "id": "EQjF3HxLcsUS"
      },
      "source": [
        "A variável **spot** é o que nos conecta com  API e permite coletarmos os dados do Spotify, então será muito útil."
      ]
    },
    {
      "cell_type": "markdown",
      "metadata": {
        "id": "gxy0PZ2Ls-fA"
      },
      "source": [
        "####**Coletando os dados do Spotify fornecidos pela API com SpotiPy**"
      ]
    },
    {
      "cell_type": "markdown",
      "metadata": {
        "id": "YXUqzmYotFct"
      },
      "source": [
        "Para coletar os dados serão criadas funções que ao final serão chamadas ao escolhermos de qual artista queremos coletar os dados.\n",
        "\n"
      ]
    },
    {
      "cell_type": "markdown",
      "metadata": {
        "id": "cmiQbw5etOI1"
      },
      "source": [
        "Logo, a primeira função será uma função que seja responsável por recuperar os dados do artista a partir do seu Nome. O que a função irá fazer é através do método search buscar o nome do artista e a partir disso buscar suas músicas (tracks)."
      ]
    },
    {
      "cell_type": "code",
      "metadata": {
        "id": "KtKv24PfNgzu"
      },
      "source": [
        "#Função para recuperar dados do artista através do seu Nome\n",
        "def get_artista_por_nome(coldplay):\n",
        "    busca = spot.search(coldplay)\n",
        "    items = busca['tracks']['items']\n",
        "    if len(items) > 0:\n",
        "        return items[0]['artists'][0]\n",
        "    else:\n",
        "        return None"
      ],
      "execution_count": null,
      "outputs": []
    },
    {
      "cell_type": "markdown",
      "metadata": {
        "id": "ExCcaHkntvHB"
      },
      "source": [
        "A partir do artista determinado na função anterior, é preciso criar uma função que recupere o ID do artista, para casos de artista com o mesmo nome, então o ID é algo único do artista cadastro no Spotify e assim não coletaremos os dados de um outro artista"
      ]
    },
    {
      "cell_type": "code",
      "metadata": {
        "id": "UmYSgdflNjLm"
      },
      "source": [
        "#A partir do artista determinado na função anterior, recuperamos o seu ID\n",
        "def get_id_do_artista(artist):\n",
        "    return artist['id']"
      ],
      "execution_count": null,
      "outputs": []
    },
    {
      "cell_type": "markdown",
      "metadata": {
        "id": "n57dSYQvyjv3"
      },
      "source": [
        "Com o ID do artista em mãos as coisa ficam mais fáceis e podemos recuperar os nomes de músicas e álbuns que pertencem a ele no Spotify.\n",
        "\n",
        "O próximo passo é utilizar o ID do artista para construir uma função que retorne tanto os dados do artista, como os álbuns que pertencem a ele no Spotify, ou seja, os dados coletados serão os das músicas que pertencem aos álbuns do artista. Neste caso, repare que no método Limit, eu determinei um limite de 3 álbuns, porém a quantidade pode ser maior de acordo com o número de álbuns que o artista possui no spotify\n",
        "\n"
      ]
    },
    {
      "cell_type": "code",
      "metadata": {
        "id": "SXSToCCLN9MD"
      },
      "source": [
        "#Função que irá retornar os dados do artista, através do seu ID\n",
        "#Ficar atento ao limite\n",
        "\n",
        "def get_dados_do_artista(id):\n",
        "\n",
        "  #Retornar albuns do artista\n",
        "  albuns_do_artista = spot.artist_albums(id, country = 'BR', limit=3)\n",
        "  albuns = {}\n",
        "\n",
        "  for i in range(len(albuns_do_artista['items'])):\n",
        "    id = albuns_do_artista['items'][i]['id']\n",
        "    name = albuns_do_artista['items'][i]['name']\n",
        "    albuns[id] = name\n",
        "\n",
        "  return albuns"
      ],
      "execution_count": null,
      "outputs": []
    },
    {
      "cell_type": "markdown",
      "metadata": {
        "id": "BRxZTnrXt_1N"
      },
      "source": [
        "Após retornar os álbuns que pertencem ao Artista, ainda é preciso realizar o mais importante, coletar os dados as músicas que fazem parte dos álbuns e os seus dados"
      ]
    },
    {
      "cell_type": "code",
      "metadata": {
        "id": "rd3WnxJRKn9Q"
      },
      "source": [
        "#Função para retornar os dados das músicas dos álbuns\n",
        "def get_dados_dos_albuns(album_id, album_name):\n",
        "  spotify_album = {}\n",
        "\n",
        "  #Recuperar as músicas dos álbuns\n",
        "  tracks = spot.album_tracks(album_id)\n",
        "\n",
        "  for n in range(len(tracks['items'])):\n",
        "    id_track = tracks['items'][n]['id']\n",
        "    track = spot.track(id_track)\n",
        "    spotify_album[id_track] = {}\n",
        "\n",
        "    #As variaveis (dados) que estou buscando das músicas\n",
        "    spotify_album[id_track]['album'] = album_name\n",
        "    spotify_album[id_track]['track_number'] = track['track_number']\n",
        "    spotify_album[id_track]['name'] = track['name']\n",
        "    spotify_album[id_track]['popularity'] = track['popularity']\n",
        "\n",
        "\n",
        "\n",
        "\n",
        "\n",
        "\n",
        "  return spotify_album\n"
      ],
      "execution_count": null,
      "outputs": []
    },
    {
      "cell_type": "markdown",
      "metadata": {
        "id": "V31ZDph5uD8o"
      },
      "source": [
        "Observe que determinei quais os dados que eu queria coletar das músicas, sendo eles: Nome do álbum que a música pertence, posição da música no álbum, nome da música e a escala da sua popularidade. O código irá retornar um dicionário com as músicas e os seus dados."
      ]
    },
    {
      "cell_type": "markdown",
      "metadata": {
        "id": "Mc7AQh4JuKfQ"
      },
      "source": [
        "Por último, porém não menos importante, precisamos construir uma função que aplique a coleta dos dados á todos os álbuns do artista que solicitamos recuperar."
      ]
    },
    {
      "cell_type": "code",
      "metadata": {
        "id": "IZYiHJ19O7Kv"
      },
      "source": [
        "#Função para retornar os dados de todos os albuns\n",
        "\n",
        "def get_dados_de_todos_albuns(albums_ids_names):\n",
        "  spotify_albums = []\n",
        "  albums_names = []\n",
        "  for id, name in albums_ids_names.items():\n",
        "    if name not in albums_names:\n",
        "      albums_names.append(name)\n",
        "      dados_dos_albuns = get_dados_dos_albuns(id,name)\n",
        "    for item in dados_dos_albuns.items():\n",
        "      spotify_albums.append(item[1])\n",
        "  return spotify_albums"
      ],
      "execution_count": null,
      "outputs": []
    },
    {
      "cell_type": "markdown",
      "metadata": {
        "id": "H8c_Uf302Epr"
      },
      "source": [
        "Para finalizar, será utilizada a biblioteca csv, para que possamos transformar todos os dados coletados dos álbuns em um arquivo CSV."
      ]
    },
    {
      "cell_type": "code",
      "metadata": {
        "id": "c0eud_atAcC6"
      },
      "source": [
        "#Para poder analisar os dados coletados, precisamos criar uma Func p/ transformar todos os dados coletados em um arquivo CSV\n",
        "def convert_to_csv(filepath, name):\n",
        "  keys = filepath[0].keys()\n",
        "  print(keys)\n",
        "  csv_name = ''+ name + '.csv'\n",
        "  with open(csv_name, 'w') as output_file:\n",
        "    dict_writer = csv.DictWriter(output_file, keys)\n",
        "    dict_writer.writeheader()\n",
        "    dict_writer.writerows(filepath)\n",
        "  return"
      ],
      "execution_count": null,
      "outputs": []
    },
    {
      "cell_type": "markdown",
      "metadata": {
        "id": "edtxcwhNin97"
      },
      "source": [
        "Após construir a função para converter os dados das músicas dos álbuns coletados em um arquivo CSV, só falta escolher qual será o artista que iremos coletar os dados."
      ]
    },
    {
      "cell_type": "code",
      "metadata": {
        "id": "w0t1ydJUKn9i",
        "outputId": "ddce856f-f35b-49fc-f894-3f872576218a",
        "colab": {
          "base_uri": "https://localhost:8080/"
        }
      },
      "source": [
        "#Agora o mais importante, precisamos determinar de qual artista queremos coletar os dados e fazer a coleta\n",
        "name = \"Coldplay\"\n",
        "\n",
        "artista = get_artista_por_nome(name)\n",
        "\n",
        "#Se encontrar o artista no spotify:\n",
        "if artista:\n",
        "  id_do_artista = get_id_do_artista(artista)\n",
        "  dados_do_artista = get_dados_do_artista(id_do_artista)\n",
        "  dados_dos_albuns = get_dados_de_todos_albuns(dados_do_artista)\n",
        "  convert_to_csv(dados_dos_albuns, 'Coldplay')\n",
        "\n",
        "else:\n",
        "  logger.error(\"Can't find artist: %s\", artista)"
      ],
      "execution_count": null,
      "outputs": [
        {
          "output_type": "stream",
          "name": "stdout",
          "text": [
            "dict_keys(['album', 'track_number', 'name', 'popularity'])\n"
          ]
        }
      ]
    },
    {
      "cell_type": "markdown",
      "metadata": {
        "id": "9KiuEKvzU_ZI"
      },
      "source": [
        "Neste caso, eu coletei os dados do artista Coldplay, porém como a popularidade das músicas podem alterar diariamente, para não interferir na análise, era preciso utilizar um conjunto de dados de um dia especifico, por esse motivo foi utilizado o conjunto de dados do dia 26-06-2020."
      ]
    },
    {
      "cell_type": "markdown",
      "metadata": {
        "id": "6LsI7GPTsCz1"
      },
      "source": [
        "### **O artista ColdPlay**"
      ]
    },
    {
      "cell_type": "markdown",
      "metadata": {
        "id": "nncJ1cS7N3aG"
      },
      "source": [
        "![Coldplay](https://spinoff.com.br/entrete/wp-content/uploads/2022/04/coldplay-home.jpg)"
      ]
    },
    {
      "cell_type": "markdown",
      "metadata": {
        "id": "dCZ5duXtNzMs"
      },
      "source": [
        "Fundada em 1996 na Inglaterra pelo vocalista e pianista Chris Martin e o guitarrista Jonny Buckland no University College London. Coldplay vendeu mais de 100 milhões de discos e singles em todo o mundo, tornando-os um dos artistas musicais com mais vendas em todo o mundo. Eles ganharam vários prêmios ao longo de sua carreira, incluindo nove Brit Awards, sete MTV Video Music Awards, oito MTV Europe Music Awards e sete Grammy Awards de 35 indicações. Os três primeiros álbuns da banda — Parachutes (2000), A Rush of Blood to the Head (2002) e X&Y (2005) — estão entre os álbuns mais vendidos da história das paradas do Reino Unido."
      ]
    },
    {
      "cell_type": "markdown",
      "metadata": {
        "id": "kLsdV6uQQ0uz"
      },
      "source": [
        "### **Dicionario dos dados**"
      ]
    },
    {
      "cell_type": "markdown",
      "metadata": {
        "id": "tP4V7h-eZADl"
      },
      "source": [
        "Algumas coisas precisam ser definidas para que a análise fique clara e todos possam entender, então:"
      ]
    },
    {
      "cell_type": "markdown",
      "metadata": {
        "id": "gPmir6JPOBUF"
      },
      "source": [
        "O Spotify disponibiliza a popularidade de uma faixa, então obviamente usaremos a popularidade da faixa como uma de nossas variaveis para análise, mas como é feito o cálculo da populariade?. O cálculo da popularidade é feito pelo número de ouvintes daquela música e que na API é definida assim:\n",
        "\n",
        "*Popularidade da faixa: O valor estará entre 0 e 100, sendo 100 o mais popular. A popularidade é calculada e baseia-se na maior parte no número total de reproduções que a faixa teve e quão recentes foram estas reproduções. Logo, as músicas que estão sendo tocadas com uma maior frequência atualmente terão uma popularidade maior do que as músicas que foram muito tocadas no passado.*\n",
        "\n",
        "Lembre-se disso, vai ser muito importante pra nossa análise."
      ]
    },
    {
      "cell_type": "markdown",
      "metadata": {
        "id": "lbhCoC9tQ2hc"
      },
      "source": [
        "\n",
        "\n",
        "**Informações sobre as variáveis**\n"
      ]
    },
    {
      "cell_type": "markdown",
      "metadata": {
        "id": "zVYytj0yWVZf"
      },
      "source": [
        "É importante saber o que cada variável (coluna) significa e a importância delas para o conjunto de dados, para ter um entendimento inicial dos dados. Se o conjunto de dados for da web, normalmente deve ter allguma descrição no site, caso seja um conjunto de dados da empresa, é importante conversar com o pessoal da área de negocios, que normalmente são os que tem um maior entendimento do conjunto de dados. Também não pode ficar de fora uma conversa com alguém especialista no assunto que envolve o conjunto de dados, tendo em vista que é preciso além de entender os dados, entender o meio em que os dados estão envolvidos, para se construir hipoteses e tirar conclusões.\n",
        "\n",
        "Como eu mesmo fui o responsável por coletar esse conjunto de dados, não encontrei nenhuma informação disponivel sobre as variaveis, porém, o meu entendimento como usuario do spotify foi util o bastante para entender e criar hipoteses sobre o conjunto de dados, além de conhecer, entender e acompanhar as músicas do artista Coldplay.\n",
        "\n",
        "* album = Nome do albúm\n",
        "* album_type = Música ou Albúm (Como os dados coletados foram apenas dos álbuns, o tipo sempre será albúm)\n",
        "* track_number = Posição da música no albúm\n",
        "* id_track = ID da música no Spotify\n",
        "* name = Nome da música\n",
        "* popularity = Popularidade da música\n",
        "* explicit = A música é explicita ou não\n",
        "* duration_ms  = Duração da música\n",
        "* release_date = Data de Lançamento da música\n",
        "* artists = Nome do artista responsavel pela música\n"
      ]
    },
    {
      "cell_type": "markdown",
      "metadata": {
        "id": "MPiYzdcTe76V"
      },
      "source": [
        "### **Importar os pacotes e datasets necessário**\n",
        "\n"
      ]
    },
    {
      "cell_type": "markdown",
      "metadata": {
        "id": "EkIuPsuTe6cQ"
      },
      "source": [
        "As bibliotecas que foram utilizadas são as bibliotecas consideradas essenciais para uma análise de dados, sendo Pandas a principal delas, tendo em vista a necessidade de manipular e analisar os dados."
      ]
    },
    {
      "cell_type": "code",
      "metadata": {
        "id": "wWAnGIM2fLh7"
      },
      "source": [
        "#importar os pacotes necessarios\n",
        "import pandas as pd\n",
        "import matplotlib.pyplot as plt\n",
        "import seaborn as sns\n",
        "\n",
        "#Configurar o notebook\n",
        "sns.set_style('whitegrid');\n",
        "\n",
        "#Alterando estilo do matplolib\n",
        "plt.style.use('ggplot')"
      ],
      "execution_count": null,
      "outputs": []
    },
    {
      "cell_type": "markdown",
      "metadata": {
        "id": "n0wGbE_8Qeqj"
      },
      "source": [
        "### **Leitura do arquivo**"
      ]
    },
    {
      "cell_type": "markdown",
      "metadata": {
        "id": "xvYxtUo6Qip4"
      },
      "source": [
        "Antes de tudo, deve ser feita uma leitura do arquivo que será utilizado, retirando algumas informações básicas, como: \"Como os dados estão separados?\", \"Qual o tamanho do arquivo\", \"Quantos registros possuem?\", \"Vai demorar para o Google colab ler o arquivo?\". Essas perguntas são importantes para quando necessario importar o conjunto de dados com o Pandas."
      ]
    },
    {
      "cell_type": "markdown",
      "metadata": {
        "id": "9jDRntFFlJR9"
      },
      "source": [
        "Abrindo o arquivo Coldplay.csv, obviamente, foi possivel identificar que se trata de um arquivo no formato CSV, os dados estão separados por \",\" e o conjunto possue 55 linhas, ou seja, se trata de um conjunto de dados pequeno e o Google colab não terá muitos problemas para ler o arquivo."
      ]
    },
    {
      "cell_type": "code",
      "metadata": {
        "id": "0JCvsNNRQgyB"
      },
      "source": [
        "#Importando o conjunto de dados\n",
        "df = pd.read_csv('/content/coldplay_albums.csv')"
      ],
      "execution_count": null,
      "outputs": []
    },
    {
      "cell_type": "markdown",
      "metadata": {
        "id": "47JXslAYOP5I"
      },
      "source": [
        "Em alguns casos reais, onde é trabalhado com conjuntos de dados maiores e conseguentemente mais pesados, essa etapa de importar os dados pode ser mais trabalhosa, por exigir outros parametros, como header, skiprows, skipfooter, delimiter e entre outros, para que a importação do conjunto de dados ocorra."
      ]
    },
    {
      "cell_type": "markdown",
      "metadata": {
        "id": "hP26RkCiGMJS"
      },
      "source": [
        "Como antes mesmo de importar o conjunto de dados, foi feita uma leitura, eu sei que o conjunto de dados possue 55 linhas, porém, será que a leitura dos dados foi corretamente? Então o primeiro entendimento dos dados será quantas linhas e colunas o conjunto de dados possue."
      ]
    },
    {
      "cell_type": "code",
      "metadata": {
        "id": "reZ7UBugg9PW",
        "outputId": "aa049456-80ee-487d-be53-9c0d7768113d",
        "colab": {
          "base_uri": "https://localhost:8080/"
        }
      },
      "source": [
        "#Numero de linhas e colunas\n",
        "print(f'Número de linhas ou variaveis {df.shape[0]}')\n",
        "print(f'Número de entradas ou colunas {df.shape[1]}')"
      ],
      "execution_count": null,
      "outputs": [
        {
          "output_type": "stream",
          "name": "stdout",
          "text": [
            "Número de linhas ou variaveis 15\n",
            "Número de entradas ou colunas 4\n"
          ]
        }
      ]
    },
    {
      "cell_type": "markdown",
      "metadata": {
        "id": "eBrGm408haVg"
      },
      "source": [
        "Se observado, a leitura dos dados foi feita de maneira correta e agora sabemos que o conjunto de dados possue 55 linhas ou variaveis e 4 entradas ou colunas. Por mais que pareça algo simples e insignificante, essas informações dão uma noção e entendimento importante para as proximas etapas, como a etapa de deletar colunas ou dados que não serão usados na análise."
      ]
    },
    {
      "cell_type": "markdown",
      "metadata": {
        "id": "ydNaZxF9gU57"
      },
      "source": [
        "## **Limpeza e preparação dos dados**"
      ]
    },
    {
      "cell_type": "markdown",
      "metadata": {
        "id": "n2maxVPOmDkd"
      },
      "source": [
        "A etapa de pre-processamento dos dados ou limpeza e preparação dos dados é uma das mais importantes de todo projeto de Data Science ou Machine Learning. Nessa etapa, os dados precisam ser manipulados e tratados, sendo a biblioteca Pandas a principal por desempenhar esse papel. A etapa se dá de forma continua, podendo acontecer durante todo o projeto e não apenas em sua fase especifica, também é a etapa que mais demanda tempo do cientista ou analista de dados, \"será que a demanda maior de tempo seja por se tratar da mais importante?\". O pre-processamento de dados envolve muito tratamento dos dados e nem tudo será visto nesse projeto.\n"
      ]
    },
    {
      "cell_type": "markdown",
      "metadata": {
        "id": "QJEKaoLlC5zd"
      },
      "source": [
        "A limpeza e manipulação dos dados nesse projeto pode parecer algo muito simples e que inicialmente não tem significado, porém, nos casos reais os dados dificilmente virão tratados, limpos e organizados. Por isso, tanto se fala que essa etapa é a etapa que mais se demanda tempo. Sendo a responsável por fazer uma amostra limpa dos dados, para que assim os dados possam ser utilizados em etapas futuras, como na analise exploratoria dos dados, onde os dados precisam estar limpos e organizados para ganharem significados."
      ]
    },
    {
      "cell_type": "markdown",
      "metadata": {
        "id": "aYOTeGNqkBK9"
      },
      "source": [
        "A biblioteca Pandas além de ser a principal biblioteca do Python para se manipular e tratar os dados, como será visto na etapa de pré-processamento dos dados. Também é a melhor biblioteca do Python para analisar os dados e por isso grande parte do projeto foi realizado com o uso do Pandas, tendo em vista que o objetivo do projeto é justamente analisar os dados do spotify do artista Coldplay. Algumas das atividades que fazem da biblioteca Pandas tão util para manipulação e analise de dados, são:\n",
        "\n",
        "* Objeto DataFrame para manipulação de dados com indexação integrada.\n",
        "* Ferramentas para ler e gravar dados entre estruturas de dados na memória e diferentes formatos de arquivo.\n",
        "* Alinhamento de dados e tratamento integrado de dados ausentes.\n",
        "* Remodelagem e dinamização de conjuntos de dados.\n",
        "* Inserção e exclusão de colunas de estrutura de dados.\n",
        "* Grupo por mecanismo, permitindo operações dividir-aplicar-combinar em conjuntos de dados.\n",
        "* Combinação e junção de conjuntos de dados.\n"
      ]
    },
    {
      "cell_type": "markdown",
      "metadata": {
        "id": "7MMfY8HQmGA_"
      },
      "source": [
        "### **Deletando colunas**"
      ]
    },
    {
      "cell_type": "markdown",
      "metadata": {
        "id": "q1wqNFGDEhVA"
      },
      "source": [
        "A primeira etapa que sempre costumo realizar no pré-processamento de dados é a de deletar os dados, ou melhor, deletar as colunas. Dependendo do seu tamanho, um conjunto de dados em muito dos casos possuem colunas que não são uteis para o objetivo do projeto, até mesmo mais de dez colunas que estão ali apenas ocupando um espaço. Consequentemente, os dados dessas colunas só estão ocupando espaço de memoria e dificultando a análise dos dados."
      ]
    },
    {
      "cell_type": "code",
      "metadata": {
        "id": "E-5i2AIKRsMc",
        "outputId": "0ee33071-87b9-4e66-a70b-ffb0d86ff0d0",
        "colab": {
          "base_uri": "https://localhost:8080/"
        }
      },
      "source": [
        "#As colunas que pertencem ao conjunto de dados\n",
        "df.columns"
      ],
      "execution_count": null,
      "outputs": [
        {
          "output_type": "execute_result",
          "data": {
            "text/plain": [
              "Index(['nome_do_album', 'nome_da_faixa', 'posicao_da_faixa', 'popularidade'], dtype='object')"
            ]
          },
          "metadata": {},
          "execution_count": 85
        }
      ]
    },
    {
      "cell_type": "markdown",
      "metadata": {
        "id": "zqH6vhn7md6l"
      },
      "source": [
        "O conjunto de dados dos albums retirado do spotify do artista contém colunas que não são uteis para o objetivo do projeto. Colunas como duração da música e se a música é explicita ou não, que não são uteis o projeto, porém seriam interessantes se o objetivo do projeto fosse criar um modelo de Machine Learning. Outras colunas como id da música, data de lançamento e artistas que comporão, também serão deletadas."
      ]
    },
    {
      "cell_type": "markdown",
      "metadata": {
        "id": "k9X--LqvJnEw"
      },
      "source": [
        "Antes de deletar as colunas, mesmo que tenha sido feita uma leitura do arquivo antes do mesmo ser importado para a análise, é importante que novamente se avalie como os dados estão se comportando, quais são as primeiras e ultimas linhas do conjunto de dados e como cada coluna está representada. Perguntas como essas são importante por começarem a dar um entendimento e informação sobre o conjunto de dados e se chegar na análise exploratoria já com boas ideias de hipoteses.  "
      ]
    },
    {
      "cell_type": "code",
      "metadata": {
        "id": "IODXmrT6lkw4",
        "outputId": "8c70e848-554d-481a-c04a-92851bfd49a3",
        "colab": {
          "base_uri": "https://localhost:8080/",
          "height": 295
        }
      },
      "source": [
        "#As 5 primeiras linhas do conjunto de dados\n",
        "df.head()"
      ],
      "execution_count": null,
      "outputs": [
        {
          "output_type": "execute_result",
          "data": {
            "text/plain": [
              "             nome_do_album nome_da_faixa        posicao_da_faixa  \\\n",
              "0     Music Of The Spheres    2021-10-15  06mXfvDsRZNfnsGZvX2zpb   \n",
              "1            Everyday Life    2019-11-22  2FeyIYDDAQqcOJKOKhvHdr   \n",
              "2     Live in Buenos Aires    2018-12-07  19CvkGjYpifkdwgVJSbog2   \n",
              "3    A Head Full of Dreams    2015-12-04  3cfAM8b8KqJRoIzt3zLKqw   \n",
              "4  Ghost Stories Live 2014    2014-11-21  1hNS0RsxPTFjmKXCgmjSLS   \n",
              "\n",
              "                                        popularidade  \n",
              "0  https://open.spotify.com/album/06mXfvDsRZNfnsG...  \n",
              "1  https://open.spotify.com/album/2FeyIYDDAQqcOJK...  \n",
              "2  https://open.spotify.com/album/19CvkGjYpifkdwg...  \n",
              "3  https://open.spotify.com/album/3cfAM8b8KqJRoIz...  \n",
              "4  https://open.spotify.com/album/1hNS0RsxPTFjmKX...  "
            ],
            "text/html": [
              "\n",
              "  <div id=\"df-08d2e9a6-f0f0-46d4-aefe-e70726b421bf\" class=\"colab-df-container\">\n",
              "    <div>\n",
              "<style scoped>\n",
              "    .dataframe tbody tr th:only-of-type {\n",
              "        vertical-align: middle;\n",
              "    }\n",
              "\n",
              "    .dataframe tbody tr th {\n",
              "        vertical-align: top;\n",
              "    }\n",
              "\n",
              "    .dataframe thead th {\n",
              "        text-align: right;\n",
              "    }\n",
              "</style>\n",
              "<table border=\"1\" class=\"dataframe\">\n",
              "  <thead>\n",
              "    <tr style=\"text-align: right;\">\n",
              "      <th></th>\n",
              "      <th>nome_do_album</th>\n",
              "      <th>nome_da_faixa</th>\n",
              "      <th>posicao_da_faixa</th>\n",
              "      <th>popularidade</th>\n",
              "    </tr>\n",
              "  </thead>\n",
              "  <tbody>\n",
              "    <tr>\n",
              "      <th>0</th>\n",
              "      <td>Music Of The Spheres</td>\n",
              "      <td>2021-10-15</td>\n",
              "      <td>06mXfvDsRZNfnsGZvX2zpb</td>\n",
              "      <td>https://open.spotify.com/album/06mXfvDsRZNfnsG...</td>\n",
              "    </tr>\n",
              "    <tr>\n",
              "      <th>1</th>\n",
              "      <td>Everyday Life</td>\n",
              "      <td>2019-11-22</td>\n",
              "      <td>2FeyIYDDAQqcOJKOKhvHdr</td>\n",
              "      <td>https://open.spotify.com/album/2FeyIYDDAQqcOJK...</td>\n",
              "    </tr>\n",
              "    <tr>\n",
              "      <th>2</th>\n",
              "      <td>Live in Buenos Aires</td>\n",
              "      <td>2018-12-07</td>\n",
              "      <td>19CvkGjYpifkdwgVJSbog2</td>\n",
              "      <td>https://open.spotify.com/album/19CvkGjYpifkdwg...</td>\n",
              "    </tr>\n",
              "    <tr>\n",
              "      <th>3</th>\n",
              "      <td>A Head Full of Dreams</td>\n",
              "      <td>2015-12-04</td>\n",
              "      <td>3cfAM8b8KqJRoIzt3zLKqw</td>\n",
              "      <td>https://open.spotify.com/album/3cfAM8b8KqJRoIz...</td>\n",
              "    </tr>\n",
              "    <tr>\n",
              "      <th>4</th>\n",
              "      <td>Ghost Stories Live 2014</td>\n",
              "      <td>2014-11-21</td>\n",
              "      <td>1hNS0RsxPTFjmKXCgmjSLS</td>\n",
              "      <td>https://open.spotify.com/album/1hNS0RsxPTFjmKX...</td>\n",
              "    </tr>\n",
              "  </tbody>\n",
              "</table>\n",
              "</div>\n",
              "    <div class=\"colab-df-buttons\">\n",
              "\n",
              "  <div class=\"colab-df-container\">\n",
              "    <button class=\"colab-df-convert\" onclick=\"convertToInteractive('df-08d2e9a6-f0f0-46d4-aefe-e70726b421bf')\"\n",
              "            title=\"Convert this dataframe to an interactive table.\"\n",
              "            style=\"display:none;\">\n",
              "\n",
              "  <svg xmlns=\"http://www.w3.org/2000/svg\" height=\"24px\" viewBox=\"0 -960 960 960\">\n",
              "    <path d=\"M120-120v-720h720v720H120Zm60-500h600v-160H180v160Zm220 220h160v-160H400v160Zm0 220h160v-160H400v160ZM180-400h160v-160H180v160Zm440 0h160v-160H620v160ZM180-180h160v-160H180v160Zm440 0h160v-160H620v160Z\"/>\n",
              "  </svg>\n",
              "    </button>\n",
              "\n",
              "  <style>\n",
              "    .colab-df-container {\n",
              "      display:flex;\n",
              "      gap: 12px;\n",
              "    }\n",
              "\n",
              "    .colab-df-convert {\n",
              "      background-color: #E8F0FE;\n",
              "      border: none;\n",
              "      border-radius: 50%;\n",
              "      cursor: pointer;\n",
              "      display: none;\n",
              "      fill: #1967D2;\n",
              "      height: 32px;\n",
              "      padding: 0 0 0 0;\n",
              "      width: 32px;\n",
              "    }\n",
              "\n",
              "    .colab-df-convert:hover {\n",
              "      background-color: #E2EBFA;\n",
              "      box-shadow: 0px 1px 2px rgba(60, 64, 67, 0.3), 0px 1px 3px 1px rgba(60, 64, 67, 0.15);\n",
              "      fill: #174EA6;\n",
              "    }\n",
              "\n",
              "    .colab-df-buttons div {\n",
              "      margin-bottom: 4px;\n",
              "    }\n",
              "\n",
              "    [theme=dark] .colab-df-convert {\n",
              "      background-color: #3B4455;\n",
              "      fill: #D2E3FC;\n",
              "    }\n",
              "\n",
              "    [theme=dark] .colab-df-convert:hover {\n",
              "      background-color: #434B5C;\n",
              "      box-shadow: 0px 1px 3px 1px rgba(0, 0, 0, 0.15);\n",
              "      filter: drop-shadow(0px 1px 2px rgba(0, 0, 0, 0.3));\n",
              "      fill: #FFFFFF;\n",
              "    }\n",
              "  </style>\n",
              "\n",
              "    <script>\n",
              "      const buttonEl =\n",
              "        document.querySelector('#df-08d2e9a6-f0f0-46d4-aefe-e70726b421bf button.colab-df-convert');\n",
              "      buttonEl.style.display =\n",
              "        google.colab.kernel.accessAllowed ? 'block' : 'none';\n",
              "\n",
              "      async function convertToInteractive(key) {\n",
              "        const element = document.querySelector('#df-08d2e9a6-f0f0-46d4-aefe-e70726b421bf');\n",
              "        const dataTable =\n",
              "          await google.colab.kernel.invokeFunction('convertToInteractive',\n",
              "                                                    [key], {});\n",
              "        if (!dataTable) return;\n",
              "\n",
              "        const docLinkHtml = 'Like what you see? Visit the ' +\n",
              "          '<a target=\"_blank\" href=https://colab.research.google.com/notebooks/data_table.ipynb>data table notebook</a>'\n",
              "          + ' to learn more about interactive tables.';\n",
              "        element.innerHTML = '';\n",
              "        dataTable['output_type'] = 'display_data';\n",
              "        await google.colab.output.renderOutput(dataTable, element);\n",
              "        const docLink = document.createElement('div');\n",
              "        docLink.innerHTML = docLinkHtml;\n",
              "        element.appendChild(docLink);\n",
              "      }\n",
              "    </script>\n",
              "  </div>\n",
              "\n",
              "\n",
              "<div id=\"df-9b9b842a-bc14-4e90-9fde-8a6e38d0bc21\">\n",
              "  <button class=\"colab-df-quickchart\" onclick=\"quickchart('df-9b9b842a-bc14-4e90-9fde-8a6e38d0bc21')\"\n",
              "            title=\"Suggest charts\"\n",
              "            style=\"display:none;\">\n",
              "\n",
              "<svg xmlns=\"http://www.w3.org/2000/svg\" height=\"24px\"viewBox=\"0 0 24 24\"\n",
              "     width=\"24px\">\n",
              "    <g>\n",
              "        <path d=\"M19 3H5c-1.1 0-2 .9-2 2v14c0 1.1.9 2 2 2h14c1.1 0 2-.9 2-2V5c0-1.1-.9-2-2-2zM9 17H7v-7h2v7zm4 0h-2V7h2v10zm4 0h-2v-4h2v4z\"/>\n",
              "    </g>\n",
              "</svg>\n",
              "  </button>\n",
              "\n",
              "<style>\n",
              "  .colab-df-quickchart {\n",
              "      --bg-color: #E8F0FE;\n",
              "      --fill-color: #1967D2;\n",
              "      --hover-bg-color: #E2EBFA;\n",
              "      --hover-fill-color: #174EA6;\n",
              "      --disabled-fill-color: #AAA;\n",
              "      --disabled-bg-color: #DDD;\n",
              "  }\n",
              "\n",
              "  [theme=dark] .colab-df-quickchart {\n",
              "      --bg-color: #3B4455;\n",
              "      --fill-color: #D2E3FC;\n",
              "      --hover-bg-color: #434B5C;\n",
              "      --hover-fill-color: #FFFFFF;\n",
              "      --disabled-bg-color: #3B4455;\n",
              "      --disabled-fill-color: #666;\n",
              "  }\n",
              "\n",
              "  .colab-df-quickchart {\n",
              "    background-color: var(--bg-color);\n",
              "    border: none;\n",
              "    border-radius: 50%;\n",
              "    cursor: pointer;\n",
              "    display: none;\n",
              "    fill: var(--fill-color);\n",
              "    height: 32px;\n",
              "    padding: 0;\n",
              "    width: 32px;\n",
              "  }\n",
              "\n",
              "  .colab-df-quickchart:hover {\n",
              "    background-color: var(--hover-bg-color);\n",
              "    box-shadow: 0 1px 2px rgba(60, 64, 67, 0.3), 0 1px 3px 1px rgba(60, 64, 67, 0.15);\n",
              "    fill: var(--button-hover-fill-color);\n",
              "  }\n",
              "\n",
              "  .colab-df-quickchart-complete:disabled,\n",
              "  .colab-df-quickchart-complete:disabled:hover {\n",
              "    background-color: var(--disabled-bg-color);\n",
              "    fill: var(--disabled-fill-color);\n",
              "    box-shadow: none;\n",
              "  }\n",
              "\n",
              "  .colab-df-spinner {\n",
              "    border: 2px solid var(--fill-color);\n",
              "    border-color: transparent;\n",
              "    border-bottom-color: var(--fill-color);\n",
              "    animation:\n",
              "      spin 1s steps(1) infinite;\n",
              "  }\n",
              "\n",
              "  @keyframes spin {\n",
              "    0% {\n",
              "      border-color: transparent;\n",
              "      border-bottom-color: var(--fill-color);\n",
              "      border-left-color: var(--fill-color);\n",
              "    }\n",
              "    20% {\n",
              "      border-color: transparent;\n",
              "      border-left-color: var(--fill-color);\n",
              "      border-top-color: var(--fill-color);\n",
              "    }\n",
              "    30% {\n",
              "      border-color: transparent;\n",
              "      border-left-color: var(--fill-color);\n",
              "      border-top-color: var(--fill-color);\n",
              "      border-right-color: var(--fill-color);\n",
              "    }\n",
              "    40% {\n",
              "      border-color: transparent;\n",
              "      border-right-color: var(--fill-color);\n",
              "      border-top-color: var(--fill-color);\n",
              "    }\n",
              "    60% {\n",
              "      border-color: transparent;\n",
              "      border-right-color: var(--fill-color);\n",
              "    }\n",
              "    80% {\n",
              "      border-color: transparent;\n",
              "      border-right-color: var(--fill-color);\n",
              "      border-bottom-color: var(--fill-color);\n",
              "    }\n",
              "    90% {\n",
              "      border-color: transparent;\n",
              "      border-bottom-color: var(--fill-color);\n",
              "    }\n",
              "  }\n",
              "</style>\n",
              "\n",
              "  <script>\n",
              "    async function quickchart(key) {\n",
              "      const quickchartButtonEl =\n",
              "        document.querySelector('#' + key + ' button');\n",
              "      quickchartButtonEl.disabled = true;  // To prevent multiple clicks.\n",
              "      quickchartButtonEl.classList.add('colab-df-spinner');\n",
              "      try {\n",
              "        const charts = await google.colab.kernel.invokeFunction(\n",
              "            'suggestCharts', [key], {});\n",
              "      } catch (error) {\n",
              "        console.error('Error during call to suggestCharts:', error);\n",
              "      }\n",
              "      quickchartButtonEl.classList.remove('colab-df-spinner');\n",
              "      quickchartButtonEl.classList.add('colab-df-quickchart-complete');\n",
              "    }\n",
              "    (() => {\n",
              "      let quickchartButtonEl =\n",
              "        document.querySelector('#df-9b9b842a-bc14-4e90-9fde-8a6e38d0bc21 button');\n",
              "      quickchartButtonEl.style.display =\n",
              "        google.colab.kernel.accessAllowed ? 'block' : 'none';\n",
              "    })();\n",
              "  </script>\n",
              "</div>\n",
              "    </div>\n",
              "  </div>\n"
            ]
          },
          "metadata": {},
          "execution_count": 84
        }
      ]
    },
    {
      "cell_type": "code",
      "metadata": {
        "id": "roPaNbkqL3Fx",
        "outputId": "4c52886f-fb1d-41ab-bc5e-5866557d29f9",
        "colab": {
          "base_uri": "https://localhost:8080/",
          "height": 278
        }
      },
      "source": [
        "#As 5 últimas linhas\n",
        "df.tail()"
      ],
      "execution_count": null,
      "outputs": [
        {
          "output_type": "execute_result",
          "data": {
            "text/plain": [
              "                                nome_do_album nome_da_faixa  \\\n",
              "10  Viva La Vida or Death and All His Friends    2008-05-26   \n",
              "11                                        X&Y    2005-06-07   \n",
              "12                                  Live 2003    2003-11-01   \n",
              "13                A Rush of Blood to the Head    2002-08-08   \n",
              "14                                 Parachutes    2000-07-10   \n",
              "\n",
              "          posicao_da_faixa                                       popularidade  \n",
              "10  1CEODgTmTwLyabvwd7HBty  https://open.spotify.com/album/1CEODgTmTwLyabv...  \n",
              "11  4E7bV0pzG0LciBSWTszra6  https://open.spotify.com/album/4E7bV0pzG0LciBS...  \n",
              "12  3JMOZD2qixTTLRW9I6JuF4  https://open.spotify.com/album/3JMOZD2qixTTLRW...  \n",
              "13  0RHX9XECH8IVI3LNgWDpmQ  https://open.spotify.com/album/0RHX9XECH8IVI3L...  \n",
              "14  6ZG5lRT77aJ3btmArcykra  https://open.spotify.com/album/6ZG5lRT77aJ3btm...  "
            ],
            "text/html": [
              "\n",
              "  <div id=\"df-185540f2-04ae-4908-9bec-ebb0987999a2\" class=\"colab-df-container\">\n",
              "    <div>\n",
              "<style scoped>\n",
              "    .dataframe tbody tr th:only-of-type {\n",
              "        vertical-align: middle;\n",
              "    }\n",
              "\n",
              "    .dataframe tbody tr th {\n",
              "        vertical-align: top;\n",
              "    }\n",
              "\n",
              "    .dataframe thead th {\n",
              "        text-align: right;\n",
              "    }\n",
              "</style>\n",
              "<table border=\"1\" class=\"dataframe\">\n",
              "  <thead>\n",
              "    <tr style=\"text-align: right;\">\n",
              "      <th></th>\n",
              "      <th>nome_do_album</th>\n",
              "      <th>nome_da_faixa</th>\n",
              "      <th>posicao_da_faixa</th>\n",
              "      <th>popularidade</th>\n",
              "    </tr>\n",
              "  </thead>\n",
              "  <tbody>\n",
              "    <tr>\n",
              "      <th>10</th>\n",
              "      <td>Viva La Vida or Death and All His Friends</td>\n",
              "      <td>2008-05-26</td>\n",
              "      <td>1CEODgTmTwLyabvwd7HBty</td>\n",
              "      <td>https://open.spotify.com/album/1CEODgTmTwLyabv...</td>\n",
              "    </tr>\n",
              "    <tr>\n",
              "      <th>11</th>\n",
              "      <td>X&amp;Y</td>\n",
              "      <td>2005-06-07</td>\n",
              "      <td>4E7bV0pzG0LciBSWTszra6</td>\n",
              "      <td>https://open.spotify.com/album/4E7bV0pzG0LciBS...</td>\n",
              "    </tr>\n",
              "    <tr>\n",
              "      <th>12</th>\n",
              "      <td>Live 2003</td>\n",
              "      <td>2003-11-01</td>\n",
              "      <td>3JMOZD2qixTTLRW9I6JuF4</td>\n",
              "      <td>https://open.spotify.com/album/3JMOZD2qixTTLRW...</td>\n",
              "    </tr>\n",
              "    <tr>\n",
              "      <th>13</th>\n",
              "      <td>A Rush of Blood to the Head</td>\n",
              "      <td>2002-08-08</td>\n",
              "      <td>0RHX9XECH8IVI3LNgWDpmQ</td>\n",
              "      <td>https://open.spotify.com/album/0RHX9XECH8IVI3L...</td>\n",
              "    </tr>\n",
              "    <tr>\n",
              "      <th>14</th>\n",
              "      <td>Parachutes</td>\n",
              "      <td>2000-07-10</td>\n",
              "      <td>6ZG5lRT77aJ3btmArcykra</td>\n",
              "      <td>https://open.spotify.com/album/6ZG5lRT77aJ3btm...</td>\n",
              "    </tr>\n",
              "  </tbody>\n",
              "</table>\n",
              "</div>\n",
              "    <div class=\"colab-df-buttons\">\n",
              "\n",
              "  <div class=\"colab-df-container\">\n",
              "    <button class=\"colab-df-convert\" onclick=\"convertToInteractive('df-185540f2-04ae-4908-9bec-ebb0987999a2')\"\n",
              "            title=\"Convert this dataframe to an interactive table.\"\n",
              "            style=\"display:none;\">\n",
              "\n",
              "  <svg xmlns=\"http://www.w3.org/2000/svg\" height=\"24px\" viewBox=\"0 -960 960 960\">\n",
              "    <path d=\"M120-120v-720h720v720H120Zm60-500h600v-160H180v160Zm220 220h160v-160H400v160Zm0 220h160v-160H400v160ZM180-400h160v-160H180v160Zm440 0h160v-160H620v160ZM180-180h160v-160H180v160Zm440 0h160v-160H620v160Z\"/>\n",
              "  </svg>\n",
              "    </button>\n",
              "\n",
              "  <style>\n",
              "    .colab-df-container {\n",
              "      display:flex;\n",
              "      gap: 12px;\n",
              "    }\n",
              "\n",
              "    .colab-df-convert {\n",
              "      background-color: #E8F0FE;\n",
              "      border: none;\n",
              "      border-radius: 50%;\n",
              "      cursor: pointer;\n",
              "      display: none;\n",
              "      fill: #1967D2;\n",
              "      height: 32px;\n",
              "      padding: 0 0 0 0;\n",
              "      width: 32px;\n",
              "    }\n",
              "\n",
              "    .colab-df-convert:hover {\n",
              "      background-color: #E2EBFA;\n",
              "      box-shadow: 0px 1px 2px rgba(60, 64, 67, 0.3), 0px 1px 3px 1px rgba(60, 64, 67, 0.15);\n",
              "      fill: #174EA6;\n",
              "    }\n",
              "\n",
              "    .colab-df-buttons div {\n",
              "      margin-bottom: 4px;\n",
              "    }\n",
              "\n",
              "    [theme=dark] .colab-df-convert {\n",
              "      background-color: #3B4455;\n",
              "      fill: #D2E3FC;\n",
              "    }\n",
              "\n",
              "    [theme=dark] .colab-df-convert:hover {\n",
              "      background-color: #434B5C;\n",
              "      box-shadow: 0px 1px 3px 1px rgba(0, 0, 0, 0.15);\n",
              "      filter: drop-shadow(0px 1px 2px rgba(0, 0, 0, 0.3));\n",
              "      fill: #FFFFFF;\n",
              "    }\n",
              "  </style>\n",
              "\n",
              "    <script>\n",
              "      const buttonEl =\n",
              "        document.querySelector('#df-185540f2-04ae-4908-9bec-ebb0987999a2 button.colab-df-convert');\n",
              "      buttonEl.style.display =\n",
              "        google.colab.kernel.accessAllowed ? 'block' : 'none';\n",
              "\n",
              "      async function convertToInteractive(key) {\n",
              "        const element = document.querySelector('#df-185540f2-04ae-4908-9bec-ebb0987999a2');\n",
              "        const dataTable =\n",
              "          await google.colab.kernel.invokeFunction('convertToInteractive',\n",
              "                                                    [key], {});\n",
              "        if (!dataTable) return;\n",
              "\n",
              "        const docLinkHtml = 'Like what you see? Visit the ' +\n",
              "          '<a target=\"_blank\" href=https://colab.research.google.com/notebooks/data_table.ipynb>data table notebook</a>'\n",
              "          + ' to learn more about interactive tables.';\n",
              "        element.innerHTML = '';\n",
              "        dataTable['output_type'] = 'display_data';\n",
              "        await google.colab.output.renderOutput(dataTable, element);\n",
              "        const docLink = document.createElement('div');\n",
              "        docLink.innerHTML = docLinkHtml;\n",
              "        element.appendChild(docLink);\n",
              "      }\n",
              "    </script>\n",
              "  </div>\n",
              "\n",
              "\n",
              "<div id=\"df-41a90f63-32d4-499c-9da0-0af22c470b46\">\n",
              "  <button class=\"colab-df-quickchart\" onclick=\"quickchart('df-41a90f63-32d4-499c-9da0-0af22c470b46')\"\n",
              "            title=\"Suggest charts\"\n",
              "            style=\"display:none;\">\n",
              "\n",
              "<svg xmlns=\"http://www.w3.org/2000/svg\" height=\"24px\"viewBox=\"0 0 24 24\"\n",
              "     width=\"24px\">\n",
              "    <g>\n",
              "        <path d=\"M19 3H5c-1.1 0-2 .9-2 2v14c0 1.1.9 2 2 2h14c1.1 0 2-.9 2-2V5c0-1.1-.9-2-2-2zM9 17H7v-7h2v7zm4 0h-2V7h2v10zm4 0h-2v-4h2v4z\"/>\n",
              "    </g>\n",
              "</svg>\n",
              "  </button>\n",
              "\n",
              "<style>\n",
              "  .colab-df-quickchart {\n",
              "      --bg-color: #E8F0FE;\n",
              "      --fill-color: #1967D2;\n",
              "      --hover-bg-color: #E2EBFA;\n",
              "      --hover-fill-color: #174EA6;\n",
              "      --disabled-fill-color: #AAA;\n",
              "      --disabled-bg-color: #DDD;\n",
              "  }\n",
              "\n",
              "  [theme=dark] .colab-df-quickchart {\n",
              "      --bg-color: #3B4455;\n",
              "      --fill-color: #D2E3FC;\n",
              "      --hover-bg-color: #434B5C;\n",
              "      --hover-fill-color: #FFFFFF;\n",
              "      --disabled-bg-color: #3B4455;\n",
              "      --disabled-fill-color: #666;\n",
              "  }\n",
              "\n",
              "  .colab-df-quickchart {\n",
              "    background-color: var(--bg-color);\n",
              "    border: none;\n",
              "    border-radius: 50%;\n",
              "    cursor: pointer;\n",
              "    display: none;\n",
              "    fill: var(--fill-color);\n",
              "    height: 32px;\n",
              "    padding: 0;\n",
              "    width: 32px;\n",
              "  }\n",
              "\n",
              "  .colab-df-quickchart:hover {\n",
              "    background-color: var(--hover-bg-color);\n",
              "    box-shadow: 0 1px 2px rgba(60, 64, 67, 0.3), 0 1px 3px 1px rgba(60, 64, 67, 0.15);\n",
              "    fill: var(--button-hover-fill-color);\n",
              "  }\n",
              "\n",
              "  .colab-df-quickchart-complete:disabled,\n",
              "  .colab-df-quickchart-complete:disabled:hover {\n",
              "    background-color: var(--disabled-bg-color);\n",
              "    fill: var(--disabled-fill-color);\n",
              "    box-shadow: none;\n",
              "  }\n",
              "\n",
              "  .colab-df-spinner {\n",
              "    border: 2px solid var(--fill-color);\n",
              "    border-color: transparent;\n",
              "    border-bottom-color: var(--fill-color);\n",
              "    animation:\n",
              "      spin 1s steps(1) infinite;\n",
              "  }\n",
              "\n",
              "  @keyframes spin {\n",
              "    0% {\n",
              "      border-color: transparent;\n",
              "      border-bottom-color: var(--fill-color);\n",
              "      border-left-color: var(--fill-color);\n",
              "    }\n",
              "    20% {\n",
              "      border-color: transparent;\n",
              "      border-left-color: var(--fill-color);\n",
              "      border-top-color: var(--fill-color);\n",
              "    }\n",
              "    30% {\n",
              "      border-color: transparent;\n",
              "      border-left-color: var(--fill-color);\n",
              "      border-top-color: var(--fill-color);\n",
              "      border-right-color: var(--fill-color);\n",
              "    }\n",
              "    40% {\n",
              "      border-color: transparent;\n",
              "      border-right-color: var(--fill-color);\n",
              "      border-top-color: var(--fill-color);\n",
              "    }\n",
              "    60% {\n",
              "      border-color: transparent;\n",
              "      border-right-color: var(--fill-color);\n",
              "    }\n",
              "    80% {\n",
              "      border-color: transparent;\n",
              "      border-right-color: var(--fill-color);\n",
              "      border-bottom-color: var(--fill-color);\n",
              "    }\n",
              "    90% {\n",
              "      border-color: transparent;\n",
              "      border-bottom-color: var(--fill-color);\n",
              "    }\n",
              "  }\n",
              "</style>\n",
              "\n",
              "  <script>\n",
              "    async function quickchart(key) {\n",
              "      const quickchartButtonEl =\n",
              "        document.querySelector('#' + key + ' button');\n",
              "      quickchartButtonEl.disabled = true;  // To prevent multiple clicks.\n",
              "      quickchartButtonEl.classList.add('colab-df-spinner');\n",
              "      try {\n",
              "        const charts = await google.colab.kernel.invokeFunction(\n",
              "            'suggestCharts', [key], {});\n",
              "      } catch (error) {\n",
              "        console.error('Error during call to suggestCharts:', error);\n",
              "      }\n",
              "      quickchartButtonEl.classList.remove('colab-df-spinner');\n",
              "      quickchartButtonEl.classList.add('colab-df-quickchart-complete');\n",
              "    }\n",
              "    (() => {\n",
              "      let quickchartButtonEl =\n",
              "        document.querySelector('#df-41a90f63-32d4-499c-9da0-0af22c470b46 button');\n",
              "      quickchartButtonEl.style.display =\n",
              "        google.colab.kernel.accessAllowed ? 'block' : 'none';\n",
              "    })();\n",
              "  </script>\n",
              "</div>\n",
              "    </div>\n",
              "  </div>\n"
            ]
          },
          "metadata": {},
          "execution_count": 83
        }
      ]
    },
    {
      "cell_type": "code",
      "metadata": {
        "id": "o_eD2QpUL8Gb",
        "outputId": "4fd7741b-7267-4718-9e00-6975554df809",
        "colab": {
          "base_uri": "https://localhost:8080/",
          "height": 295
        }
      },
      "source": [
        "#Uma amostra de 5 registros (linhas) dos dados\n",
        "df.sample(5)"
      ],
      "execution_count": null,
      "outputs": [
        {
          "output_type": "execute_result",
          "data": {
            "text/plain": [
              "                                nome_do_album nome_da_faixa  \\\n",
              "4                     Ghost Stories Live 2014    2014-11-21   \n",
              "1                               Everyday Life    2019-11-22   \n",
              "10  Viva La Vida or Death and All His Friends    2008-05-26   \n",
              "13                A Rush of Blood to the Head    2002-08-08   \n",
              "12                                  Live 2003    2003-11-01   \n",
              "\n",
              "          posicao_da_faixa                                       popularidade  \n",
              "4   1hNS0RsxPTFjmKXCgmjSLS  https://open.spotify.com/album/1hNS0RsxPTFjmKX...  \n",
              "1   2FeyIYDDAQqcOJKOKhvHdr  https://open.spotify.com/album/2FeyIYDDAQqcOJK...  \n",
              "10  1CEODgTmTwLyabvwd7HBty  https://open.spotify.com/album/1CEODgTmTwLyabv...  \n",
              "13  0RHX9XECH8IVI3LNgWDpmQ  https://open.spotify.com/album/0RHX9XECH8IVI3L...  \n",
              "12  3JMOZD2qixTTLRW9I6JuF4  https://open.spotify.com/album/3JMOZD2qixTTLRW...  "
            ],
            "text/html": [
              "\n",
              "  <div id=\"df-2e689d7e-43b4-493a-be36-f200ab1f8cc9\" class=\"colab-df-container\">\n",
              "    <div>\n",
              "<style scoped>\n",
              "    .dataframe tbody tr th:only-of-type {\n",
              "        vertical-align: middle;\n",
              "    }\n",
              "\n",
              "    .dataframe tbody tr th {\n",
              "        vertical-align: top;\n",
              "    }\n",
              "\n",
              "    .dataframe thead th {\n",
              "        text-align: right;\n",
              "    }\n",
              "</style>\n",
              "<table border=\"1\" class=\"dataframe\">\n",
              "  <thead>\n",
              "    <tr style=\"text-align: right;\">\n",
              "      <th></th>\n",
              "      <th>nome_do_album</th>\n",
              "      <th>nome_da_faixa</th>\n",
              "      <th>posicao_da_faixa</th>\n",
              "      <th>popularidade</th>\n",
              "    </tr>\n",
              "  </thead>\n",
              "  <tbody>\n",
              "    <tr>\n",
              "      <th>4</th>\n",
              "      <td>Ghost Stories Live 2014</td>\n",
              "      <td>2014-11-21</td>\n",
              "      <td>1hNS0RsxPTFjmKXCgmjSLS</td>\n",
              "      <td>https://open.spotify.com/album/1hNS0RsxPTFjmKX...</td>\n",
              "    </tr>\n",
              "    <tr>\n",
              "      <th>1</th>\n",
              "      <td>Everyday Life</td>\n",
              "      <td>2019-11-22</td>\n",
              "      <td>2FeyIYDDAQqcOJKOKhvHdr</td>\n",
              "      <td>https://open.spotify.com/album/2FeyIYDDAQqcOJK...</td>\n",
              "    </tr>\n",
              "    <tr>\n",
              "      <th>10</th>\n",
              "      <td>Viva La Vida or Death and All His Friends</td>\n",
              "      <td>2008-05-26</td>\n",
              "      <td>1CEODgTmTwLyabvwd7HBty</td>\n",
              "      <td>https://open.spotify.com/album/1CEODgTmTwLyabv...</td>\n",
              "    </tr>\n",
              "    <tr>\n",
              "      <th>13</th>\n",
              "      <td>A Rush of Blood to the Head</td>\n",
              "      <td>2002-08-08</td>\n",
              "      <td>0RHX9XECH8IVI3LNgWDpmQ</td>\n",
              "      <td>https://open.spotify.com/album/0RHX9XECH8IVI3L...</td>\n",
              "    </tr>\n",
              "    <tr>\n",
              "      <th>12</th>\n",
              "      <td>Live 2003</td>\n",
              "      <td>2003-11-01</td>\n",
              "      <td>3JMOZD2qixTTLRW9I6JuF4</td>\n",
              "      <td>https://open.spotify.com/album/3JMOZD2qixTTLRW...</td>\n",
              "    </tr>\n",
              "  </tbody>\n",
              "</table>\n",
              "</div>\n",
              "    <div class=\"colab-df-buttons\">\n",
              "\n",
              "  <div class=\"colab-df-container\">\n",
              "    <button class=\"colab-df-convert\" onclick=\"convertToInteractive('df-2e689d7e-43b4-493a-be36-f200ab1f8cc9')\"\n",
              "            title=\"Convert this dataframe to an interactive table.\"\n",
              "            style=\"display:none;\">\n",
              "\n",
              "  <svg xmlns=\"http://www.w3.org/2000/svg\" height=\"24px\" viewBox=\"0 -960 960 960\">\n",
              "    <path d=\"M120-120v-720h720v720H120Zm60-500h600v-160H180v160Zm220 220h160v-160H400v160Zm0 220h160v-160H400v160ZM180-400h160v-160H180v160Zm440 0h160v-160H620v160ZM180-180h160v-160H180v160Zm440 0h160v-160H620v160Z\"/>\n",
              "  </svg>\n",
              "    </button>\n",
              "\n",
              "  <style>\n",
              "    .colab-df-container {\n",
              "      display:flex;\n",
              "      gap: 12px;\n",
              "    }\n",
              "\n",
              "    .colab-df-convert {\n",
              "      background-color: #E8F0FE;\n",
              "      border: none;\n",
              "      border-radius: 50%;\n",
              "      cursor: pointer;\n",
              "      display: none;\n",
              "      fill: #1967D2;\n",
              "      height: 32px;\n",
              "      padding: 0 0 0 0;\n",
              "      width: 32px;\n",
              "    }\n",
              "\n",
              "    .colab-df-convert:hover {\n",
              "      background-color: #E2EBFA;\n",
              "      box-shadow: 0px 1px 2px rgba(60, 64, 67, 0.3), 0px 1px 3px 1px rgba(60, 64, 67, 0.15);\n",
              "      fill: #174EA6;\n",
              "    }\n",
              "\n",
              "    .colab-df-buttons div {\n",
              "      margin-bottom: 4px;\n",
              "    }\n",
              "\n",
              "    [theme=dark] .colab-df-convert {\n",
              "      background-color: #3B4455;\n",
              "      fill: #D2E3FC;\n",
              "    }\n",
              "\n",
              "    [theme=dark] .colab-df-convert:hover {\n",
              "      background-color: #434B5C;\n",
              "      box-shadow: 0px 1px 3px 1px rgba(0, 0, 0, 0.15);\n",
              "      filter: drop-shadow(0px 1px 2px rgba(0, 0, 0, 0.3));\n",
              "      fill: #FFFFFF;\n",
              "    }\n",
              "  </style>\n",
              "\n",
              "    <script>\n",
              "      const buttonEl =\n",
              "        document.querySelector('#df-2e689d7e-43b4-493a-be36-f200ab1f8cc9 button.colab-df-convert');\n",
              "      buttonEl.style.display =\n",
              "        google.colab.kernel.accessAllowed ? 'block' : 'none';\n",
              "\n",
              "      async function convertToInteractive(key) {\n",
              "        const element = document.querySelector('#df-2e689d7e-43b4-493a-be36-f200ab1f8cc9');\n",
              "        const dataTable =\n",
              "          await google.colab.kernel.invokeFunction('convertToInteractive',\n",
              "                                                    [key], {});\n",
              "        if (!dataTable) return;\n",
              "\n",
              "        const docLinkHtml = 'Like what you see? Visit the ' +\n",
              "          '<a target=\"_blank\" href=https://colab.research.google.com/notebooks/data_table.ipynb>data table notebook</a>'\n",
              "          + ' to learn more about interactive tables.';\n",
              "        element.innerHTML = '';\n",
              "        dataTable['output_type'] = 'display_data';\n",
              "        await google.colab.output.renderOutput(dataTable, element);\n",
              "        const docLink = document.createElement('div');\n",
              "        docLink.innerHTML = docLinkHtml;\n",
              "        element.appendChild(docLink);\n",
              "      }\n",
              "    </script>\n",
              "  </div>\n",
              "\n",
              "\n",
              "<div id=\"df-52a1b7d5-2705-4807-a61a-5015cf3374c0\">\n",
              "  <button class=\"colab-df-quickchart\" onclick=\"quickchart('df-52a1b7d5-2705-4807-a61a-5015cf3374c0')\"\n",
              "            title=\"Suggest charts\"\n",
              "            style=\"display:none;\">\n",
              "\n",
              "<svg xmlns=\"http://www.w3.org/2000/svg\" height=\"24px\"viewBox=\"0 0 24 24\"\n",
              "     width=\"24px\">\n",
              "    <g>\n",
              "        <path d=\"M19 3H5c-1.1 0-2 .9-2 2v14c0 1.1.9 2 2 2h14c1.1 0 2-.9 2-2V5c0-1.1-.9-2-2-2zM9 17H7v-7h2v7zm4 0h-2V7h2v10zm4 0h-2v-4h2v4z\"/>\n",
              "    </g>\n",
              "</svg>\n",
              "  </button>\n",
              "\n",
              "<style>\n",
              "  .colab-df-quickchart {\n",
              "      --bg-color: #E8F0FE;\n",
              "      --fill-color: #1967D2;\n",
              "      --hover-bg-color: #E2EBFA;\n",
              "      --hover-fill-color: #174EA6;\n",
              "      --disabled-fill-color: #AAA;\n",
              "      --disabled-bg-color: #DDD;\n",
              "  }\n",
              "\n",
              "  [theme=dark] .colab-df-quickchart {\n",
              "      --bg-color: #3B4455;\n",
              "      --fill-color: #D2E3FC;\n",
              "      --hover-bg-color: #434B5C;\n",
              "      --hover-fill-color: #FFFFFF;\n",
              "      --disabled-bg-color: #3B4455;\n",
              "      --disabled-fill-color: #666;\n",
              "  }\n",
              "\n",
              "  .colab-df-quickchart {\n",
              "    background-color: var(--bg-color);\n",
              "    border: none;\n",
              "    border-radius: 50%;\n",
              "    cursor: pointer;\n",
              "    display: none;\n",
              "    fill: var(--fill-color);\n",
              "    height: 32px;\n",
              "    padding: 0;\n",
              "    width: 32px;\n",
              "  }\n",
              "\n",
              "  .colab-df-quickchart:hover {\n",
              "    background-color: var(--hover-bg-color);\n",
              "    box-shadow: 0 1px 2px rgba(60, 64, 67, 0.3), 0 1px 3px 1px rgba(60, 64, 67, 0.15);\n",
              "    fill: var(--button-hover-fill-color);\n",
              "  }\n",
              "\n",
              "  .colab-df-quickchart-complete:disabled,\n",
              "  .colab-df-quickchart-complete:disabled:hover {\n",
              "    background-color: var(--disabled-bg-color);\n",
              "    fill: var(--disabled-fill-color);\n",
              "    box-shadow: none;\n",
              "  }\n",
              "\n",
              "  .colab-df-spinner {\n",
              "    border: 2px solid var(--fill-color);\n",
              "    border-color: transparent;\n",
              "    border-bottom-color: var(--fill-color);\n",
              "    animation:\n",
              "      spin 1s steps(1) infinite;\n",
              "  }\n",
              "\n",
              "  @keyframes spin {\n",
              "    0% {\n",
              "      border-color: transparent;\n",
              "      border-bottom-color: var(--fill-color);\n",
              "      border-left-color: var(--fill-color);\n",
              "    }\n",
              "    20% {\n",
              "      border-color: transparent;\n",
              "      border-left-color: var(--fill-color);\n",
              "      border-top-color: var(--fill-color);\n",
              "    }\n",
              "    30% {\n",
              "      border-color: transparent;\n",
              "      border-left-color: var(--fill-color);\n",
              "      border-top-color: var(--fill-color);\n",
              "      border-right-color: var(--fill-color);\n",
              "    }\n",
              "    40% {\n",
              "      border-color: transparent;\n",
              "      border-right-color: var(--fill-color);\n",
              "      border-top-color: var(--fill-color);\n",
              "    }\n",
              "    60% {\n",
              "      border-color: transparent;\n",
              "      border-right-color: var(--fill-color);\n",
              "    }\n",
              "    80% {\n",
              "      border-color: transparent;\n",
              "      border-right-color: var(--fill-color);\n",
              "      border-bottom-color: var(--fill-color);\n",
              "    }\n",
              "    90% {\n",
              "      border-color: transparent;\n",
              "      border-bottom-color: var(--fill-color);\n",
              "    }\n",
              "  }\n",
              "</style>\n",
              "\n",
              "  <script>\n",
              "    async function quickchart(key) {\n",
              "      const quickchartButtonEl =\n",
              "        document.querySelector('#' + key + ' button');\n",
              "      quickchartButtonEl.disabled = true;  // To prevent multiple clicks.\n",
              "      quickchartButtonEl.classList.add('colab-df-spinner');\n",
              "      try {\n",
              "        const charts = await google.colab.kernel.invokeFunction(\n",
              "            'suggestCharts', [key], {});\n",
              "      } catch (error) {\n",
              "        console.error('Error during call to suggestCharts:', error);\n",
              "      }\n",
              "      quickchartButtonEl.classList.remove('colab-df-spinner');\n",
              "      quickchartButtonEl.classList.add('colab-df-quickchart-complete');\n",
              "    }\n",
              "    (() => {\n",
              "      let quickchartButtonEl =\n",
              "        document.querySelector('#df-52a1b7d5-2705-4807-a61a-5015cf3374c0 button');\n",
              "      quickchartButtonEl.style.display =\n",
              "        google.colab.kernel.accessAllowed ? 'block' : 'none';\n",
              "    })();\n",
              "  </script>\n",
              "</div>\n",
              "    </div>\n",
              "  </div>\n"
            ]
          },
          "metadata": {},
          "execution_count": 82
        }
      ]
    },
    {
      "cell_type": "markdown",
      "metadata": {
        "id": "1I2y4QQBzoyc"
      },
      "source": [
        "O Pandas é uma biblioteca que suas ações em sua maioria podem ser realizadas de diversas formas, ou seja, pode ser utilizado mais de um método ou atributo para realizar algo. Logo, é importante que sejam mantidas boas práticas ao usar a biblioteca. Um exemplo é que para deletar as colunas, poderia ser utilizado o método drop() ou o método copy(). Veja:\n",
        "\n",
        "* df = df.drop([‘coluna1’, 'coluna2', 'coluna3'], axis = ‘columns’)\n",
        "\n",
        "Dessa forma, as colunas são deletadas permanentemente do conjunto de dados e posteriormente, se necessario, eu não consegueria trabalhar com as colunas."
      ]
    },
    {
      "cell_type": "markdown",
      "metadata": {
        "id": "g4wtDZMUOsBY"
      },
      "source": [
        "Por isso, a forma que considero melhor de se deletar as colunas é após ter sido feita uma análise de quais colunas são importantes para o objetivo do projeto. Selecionar as colunas que se deseja utilizar com CTRL + C através do atributo **df.columns** e posteriormente passar um array com os nomes das colunas que desejamos e na ordem desejada, através do método **.copy()**. Assim, as outras colunas serão omitidas e não deletadas."
      ]
    },
    {
      "cell_type": "code",
      "metadata": {
        "id": "SE6MXvnMQyFH",
        "outputId": "73de5b02-14ad-4937-890f-30875b027d8c",
        "colab": {
          "base_uri": "https://localhost:8080/"
        }
      },
      "source": [
        "#Selecionando as colunas com CTRL + C\n",
        "df.columns"
      ],
      "execution_count": null,
      "outputs": [
        {
          "output_type": "execute_result",
          "data": {
            "text/plain": [
              "Index(['nome_do_album', 'nome_da_faixa', 'posicao_da_faixa', 'popularidade'], dtype='object')"
            ]
          },
          "metadata": {},
          "execution_count": 80
        }
      ]
    },
    {
      "cell_type": "code",
      "metadata": {
        "id": "6aean52MxJ6N",
        "outputId": "9208ceff-8aef-4176-e9c6-f8c75f878659",
        "colab": {
          "base_uri": "https://localhost:8080/"
        }
      },
      "source": [
        "#Novas colunas\n",
        "df.columns"
      ],
      "execution_count": null,
      "outputs": [
        {
          "output_type": "execute_result",
          "data": {
            "text/plain": [
              "Index(['nome_do_album', 'nome_da_faixa', 'posicao_da_faixa', 'popularidade'], dtype='object')"
            ]
          },
          "metadata": {},
          "execution_count": 81
        }
      ]
    },
    {
      "cell_type": "markdown",
      "metadata": {
        "id": "NOxPPZyTGqt2"
      },
      "source": [
        "### **Renomeando colunas**"
      ]
    },
    {
      "cell_type": "markdown",
      "metadata": {
        "id": "ZjXmrXX1GA3S"
      },
      "source": [
        "Como já dito anteriormente, um dataset dificilmente irá vim organizado e limpo, sendo um dos principais problemas ao receber um dataset que não seja da internet, onde em sua maioria os dados já vem organizados e sim um dataset de um caso real, é a forma incorreta de como os dados e variaveis estão registrados no dataset. Sendo  necessário fazer toda manipulação dos dados, engenharia de recursos, renomeação de variáveis e etc... Apesar dos dados do dataset que estou utilizando não apresentar muito desses problemas, as colunas além de estarem em inglês, seu nome não deixa claro do que se trata a coluna. Por esses motivos, é interessante sempre manter o nome das colunas de forma que remeta claramente do que se trata a coluna, para que futuramente tenha facilidade quando for necessario usar a coluna para fazer alguma análise."
      ]
    },
    {
      "cell_type": "code",
      "metadata": {
        "id": "mw2hPLQLxQt5"
      },
      "source": [
        "#Renomeando as colunas\n",
        "df.columns = ['nome_do_album', 'nome_da_faixa',  'posicao_da_faixa', 'popularidade']"
      ],
      "execution_count": null,
      "outputs": []
    },
    {
      "cell_type": "code",
      "metadata": {
        "id": "pVsXRAxmyTvE",
        "outputId": "f5568198-bf9c-49f8-8ae6-23e2f0df49b3",
        "colab": {
          "base_uri": "https://localhost:8080/",
          "height": 198
        }
      },
      "source": [
        "#As três primeiras linhas do dataset\n",
        "df.head(3)"
      ],
      "execution_count": null,
      "outputs": [
        {
          "output_type": "execute_result",
          "data": {
            "text/plain": [
              "          nome_do_album nome_da_faixa        posicao_da_faixa  \\\n",
              "0  Music Of The Spheres    2021-10-15  06mXfvDsRZNfnsGZvX2zpb   \n",
              "1         Everyday Life    2019-11-22  2FeyIYDDAQqcOJKOKhvHdr   \n",
              "2  Live in Buenos Aires    2018-12-07  19CvkGjYpifkdwgVJSbog2   \n",
              "\n",
              "                                        popularidade  \n",
              "0  https://open.spotify.com/album/06mXfvDsRZNfnsG...  \n",
              "1  https://open.spotify.com/album/2FeyIYDDAQqcOJK...  \n",
              "2  https://open.spotify.com/album/19CvkGjYpifkdwg...  "
            ],
            "text/html": [
              "\n",
              "  <div id=\"df-191df5ed-c306-4a0d-aa40-e81caf859755\" class=\"colab-df-container\">\n",
              "    <div>\n",
              "<style scoped>\n",
              "    .dataframe tbody tr th:only-of-type {\n",
              "        vertical-align: middle;\n",
              "    }\n",
              "\n",
              "    .dataframe tbody tr th {\n",
              "        vertical-align: top;\n",
              "    }\n",
              "\n",
              "    .dataframe thead th {\n",
              "        text-align: right;\n",
              "    }\n",
              "</style>\n",
              "<table border=\"1\" class=\"dataframe\">\n",
              "  <thead>\n",
              "    <tr style=\"text-align: right;\">\n",
              "      <th></th>\n",
              "      <th>nome_do_album</th>\n",
              "      <th>nome_da_faixa</th>\n",
              "      <th>posicao_da_faixa</th>\n",
              "      <th>popularidade</th>\n",
              "    </tr>\n",
              "  </thead>\n",
              "  <tbody>\n",
              "    <tr>\n",
              "      <th>0</th>\n",
              "      <td>Music Of The Spheres</td>\n",
              "      <td>2021-10-15</td>\n",
              "      <td>06mXfvDsRZNfnsGZvX2zpb</td>\n",
              "      <td>https://open.spotify.com/album/06mXfvDsRZNfnsG...</td>\n",
              "    </tr>\n",
              "    <tr>\n",
              "      <th>1</th>\n",
              "      <td>Everyday Life</td>\n",
              "      <td>2019-11-22</td>\n",
              "      <td>2FeyIYDDAQqcOJKOKhvHdr</td>\n",
              "      <td>https://open.spotify.com/album/2FeyIYDDAQqcOJK...</td>\n",
              "    </tr>\n",
              "    <tr>\n",
              "      <th>2</th>\n",
              "      <td>Live in Buenos Aires</td>\n",
              "      <td>2018-12-07</td>\n",
              "      <td>19CvkGjYpifkdwgVJSbog2</td>\n",
              "      <td>https://open.spotify.com/album/19CvkGjYpifkdwg...</td>\n",
              "    </tr>\n",
              "  </tbody>\n",
              "</table>\n",
              "</div>\n",
              "    <div class=\"colab-df-buttons\">\n",
              "\n",
              "  <div class=\"colab-df-container\">\n",
              "    <button class=\"colab-df-convert\" onclick=\"convertToInteractive('df-191df5ed-c306-4a0d-aa40-e81caf859755')\"\n",
              "            title=\"Convert this dataframe to an interactive table.\"\n",
              "            style=\"display:none;\">\n",
              "\n",
              "  <svg xmlns=\"http://www.w3.org/2000/svg\" height=\"24px\" viewBox=\"0 -960 960 960\">\n",
              "    <path d=\"M120-120v-720h720v720H120Zm60-500h600v-160H180v160Zm220 220h160v-160H400v160Zm0 220h160v-160H400v160ZM180-400h160v-160H180v160Zm440 0h160v-160H620v160ZM180-180h160v-160H180v160Zm440 0h160v-160H620v160Z\"/>\n",
              "  </svg>\n",
              "    </button>\n",
              "\n",
              "  <style>\n",
              "    .colab-df-container {\n",
              "      display:flex;\n",
              "      gap: 12px;\n",
              "    }\n",
              "\n",
              "    .colab-df-convert {\n",
              "      background-color: #E8F0FE;\n",
              "      border: none;\n",
              "      border-radius: 50%;\n",
              "      cursor: pointer;\n",
              "      display: none;\n",
              "      fill: #1967D2;\n",
              "      height: 32px;\n",
              "      padding: 0 0 0 0;\n",
              "      width: 32px;\n",
              "    }\n",
              "\n",
              "    .colab-df-convert:hover {\n",
              "      background-color: #E2EBFA;\n",
              "      box-shadow: 0px 1px 2px rgba(60, 64, 67, 0.3), 0px 1px 3px 1px rgba(60, 64, 67, 0.15);\n",
              "      fill: #174EA6;\n",
              "    }\n",
              "\n",
              "    .colab-df-buttons div {\n",
              "      margin-bottom: 4px;\n",
              "    }\n",
              "\n",
              "    [theme=dark] .colab-df-convert {\n",
              "      background-color: #3B4455;\n",
              "      fill: #D2E3FC;\n",
              "    }\n",
              "\n",
              "    [theme=dark] .colab-df-convert:hover {\n",
              "      background-color: #434B5C;\n",
              "      box-shadow: 0px 1px 3px 1px rgba(0, 0, 0, 0.15);\n",
              "      filter: drop-shadow(0px 1px 2px rgba(0, 0, 0, 0.3));\n",
              "      fill: #FFFFFF;\n",
              "    }\n",
              "  </style>\n",
              "\n",
              "    <script>\n",
              "      const buttonEl =\n",
              "        document.querySelector('#df-191df5ed-c306-4a0d-aa40-e81caf859755 button.colab-df-convert');\n",
              "      buttonEl.style.display =\n",
              "        google.colab.kernel.accessAllowed ? 'block' : 'none';\n",
              "\n",
              "      async function convertToInteractive(key) {\n",
              "        const element = document.querySelector('#df-191df5ed-c306-4a0d-aa40-e81caf859755');\n",
              "        const dataTable =\n",
              "          await google.colab.kernel.invokeFunction('convertToInteractive',\n",
              "                                                    [key], {});\n",
              "        if (!dataTable) return;\n",
              "\n",
              "        const docLinkHtml = 'Like what you see? Visit the ' +\n",
              "          '<a target=\"_blank\" href=https://colab.research.google.com/notebooks/data_table.ipynb>data table notebook</a>'\n",
              "          + ' to learn more about interactive tables.';\n",
              "        element.innerHTML = '';\n",
              "        dataTable['output_type'] = 'display_data';\n",
              "        await google.colab.output.renderOutput(dataTable, element);\n",
              "        const docLink = document.createElement('div');\n",
              "        docLink.innerHTML = docLinkHtml;\n",
              "        element.appendChild(docLink);\n",
              "      }\n",
              "    </script>\n",
              "  </div>\n",
              "\n",
              "\n",
              "<div id=\"df-48cd119d-7096-4092-b888-80a27572757f\">\n",
              "  <button class=\"colab-df-quickchart\" onclick=\"quickchart('df-48cd119d-7096-4092-b888-80a27572757f')\"\n",
              "            title=\"Suggest charts\"\n",
              "            style=\"display:none;\">\n",
              "\n",
              "<svg xmlns=\"http://www.w3.org/2000/svg\" height=\"24px\"viewBox=\"0 0 24 24\"\n",
              "     width=\"24px\">\n",
              "    <g>\n",
              "        <path d=\"M19 3H5c-1.1 0-2 .9-2 2v14c0 1.1.9 2 2 2h14c1.1 0 2-.9 2-2V5c0-1.1-.9-2-2-2zM9 17H7v-7h2v7zm4 0h-2V7h2v10zm4 0h-2v-4h2v4z\"/>\n",
              "    </g>\n",
              "</svg>\n",
              "  </button>\n",
              "\n",
              "<style>\n",
              "  .colab-df-quickchart {\n",
              "      --bg-color: #E8F0FE;\n",
              "      --fill-color: #1967D2;\n",
              "      --hover-bg-color: #E2EBFA;\n",
              "      --hover-fill-color: #174EA6;\n",
              "      --disabled-fill-color: #AAA;\n",
              "      --disabled-bg-color: #DDD;\n",
              "  }\n",
              "\n",
              "  [theme=dark] .colab-df-quickchart {\n",
              "      --bg-color: #3B4455;\n",
              "      --fill-color: #D2E3FC;\n",
              "      --hover-bg-color: #434B5C;\n",
              "      --hover-fill-color: #FFFFFF;\n",
              "      --disabled-bg-color: #3B4455;\n",
              "      --disabled-fill-color: #666;\n",
              "  }\n",
              "\n",
              "  .colab-df-quickchart {\n",
              "    background-color: var(--bg-color);\n",
              "    border: none;\n",
              "    border-radius: 50%;\n",
              "    cursor: pointer;\n",
              "    display: none;\n",
              "    fill: var(--fill-color);\n",
              "    height: 32px;\n",
              "    padding: 0;\n",
              "    width: 32px;\n",
              "  }\n",
              "\n",
              "  .colab-df-quickchart:hover {\n",
              "    background-color: var(--hover-bg-color);\n",
              "    box-shadow: 0 1px 2px rgba(60, 64, 67, 0.3), 0 1px 3px 1px rgba(60, 64, 67, 0.15);\n",
              "    fill: var(--button-hover-fill-color);\n",
              "  }\n",
              "\n",
              "  .colab-df-quickchart-complete:disabled,\n",
              "  .colab-df-quickchart-complete:disabled:hover {\n",
              "    background-color: var(--disabled-bg-color);\n",
              "    fill: var(--disabled-fill-color);\n",
              "    box-shadow: none;\n",
              "  }\n",
              "\n",
              "  .colab-df-spinner {\n",
              "    border: 2px solid var(--fill-color);\n",
              "    border-color: transparent;\n",
              "    border-bottom-color: var(--fill-color);\n",
              "    animation:\n",
              "      spin 1s steps(1) infinite;\n",
              "  }\n",
              "\n",
              "  @keyframes spin {\n",
              "    0% {\n",
              "      border-color: transparent;\n",
              "      border-bottom-color: var(--fill-color);\n",
              "      border-left-color: var(--fill-color);\n",
              "    }\n",
              "    20% {\n",
              "      border-color: transparent;\n",
              "      border-left-color: var(--fill-color);\n",
              "      border-top-color: var(--fill-color);\n",
              "    }\n",
              "    30% {\n",
              "      border-color: transparent;\n",
              "      border-left-color: var(--fill-color);\n",
              "      border-top-color: var(--fill-color);\n",
              "      border-right-color: var(--fill-color);\n",
              "    }\n",
              "    40% {\n",
              "      border-color: transparent;\n",
              "      border-right-color: var(--fill-color);\n",
              "      border-top-color: var(--fill-color);\n",
              "    }\n",
              "    60% {\n",
              "      border-color: transparent;\n",
              "      border-right-color: var(--fill-color);\n",
              "    }\n",
              "    80% {\n",
              "      border-color: transparent;\n",
              "      border-right-color: var(--fill-color);\n",
              "      border-bottom-color: var(--fill-color);\n",
              "    }\n",
              "    90% {\n",
              "      border-color: transparent;\n",
              "      border-bottom-color: var(--fill-color);\n",
              "    }\n",
              "  }\n",
              "</style>\n",
              "\n",
              "  <script>\n",
              "    async function quickchart(key) {\n",
              "      const quickchartButtonEl =\n",
              "        document.querySelector('#' + key + ' button');\n",
              "      quickchartButtonEl.disabled = true;  // To prevent multiple clicks.\n",
              "      quickchartButtonEl.classList.add('colab-df-spinner');\n",
              "      try {\n",
              "        const charts = await google.colab.kernel.invokeFunction(\n",
              "            'suggestCharts', [key], {});\n",
              "      } catch (error) {\n",
              "        console.error('Error during call to suggestCharts:', error);\n",
              "      }\n",
              "      quickchartButtonEl.classList.remove('colab-df-spinner');\n",
              "      quickchartButtonEl.classList.add('colab-df-quickchart-complete');\n",
              "    }\n",
              "    (() => {\n",
              "      let quickchartButtonEl =\n",
              "        document.querySelector('#df-48cd119d-7096-4092-b888-80a27572757f button');\n",
              "      quickchartButtonEl.style.display =\n",
              "        google.colab.kernel.accessAllowed ? 'block' : 'none';\n",
              "    })();\n",
              "  </script>\n",
              "</div>\n",
              "    </div>\n",
              "  </div>\n"
            ]
          },
          "metadata": {},
          "execution_count": 79
        }
      ]
    },
    {
      "cell_type": "markdown",
      "metadata": {
        "id": "Ov6bp8cK0X8W"
      },
      "source": [
        "Com as colunas renomeadas, quando for necessario chamar o nome da coluna para realizar uma análise ou outra tarefa, ficará tudo mais fácil. Vale ressaltar que também é importante sempre manter o nome das colunas com letras minúsculas e se necessário separar, que seja com o _, para também facilitar as tarefas que serão realizadas posteriormente com as colunas."
      ]
    },
    {
      "cell_type": "markdown",
      "metadata": {
        "id": "tiko78ph0eEl"
      },
      "source": [
        "### **Verificar dados ausentes**"
      ]
    },
    {
      "cell_type": "markdown",
      "metadata": {
        "id": "3QIb136y0lrF"
      },
      "source": [
        "Os dados ausentes em sua maioria podem ocorrer devido a não-resposta, ou seja, nenhuma informação foi registrada para uma variável, sendo mais um dos problemas de sujeira que pode aparecer em um dataset, que assim como outros problemas da etapa de limpeza e preparação dos dados que aqui já foi dito, os dados ausentes precisam ser limpados e tratados, de modo que deixem de ser dados ausentes e passem a ganhar significado. Dessa forma, antes de limpar e tratar os dados ausentes, primeiro é preciso identificar se existe a presença de dados ausentes ou faltantes no dataset."
      ]
    },
    {
      "cell_type": "markdown",
      "metadata": {
        "id": "fmqmwWGm2aam"
      },
      "source": [
        "Para identificar a presença de dados ausentes, eu poderia ter usado o método isnull(), porém para sempre manter as boas práticas ao utilizar a biblioteca pandas, é interessante utilizar o método isna(), devido que o final \"na\" do método remete ao dropna e fillna, que são metodos que também trabalham de alguma forma com dados ausentes."
      ]
    },
    {
      "cell_type": "code",
      "metadata": {
        "id": "UzBw8iC50k7Y",
        "outputId": "ea0c5fac-002e-491a-fd35-8502b9cce45b",
        "colab": {
          "base_uri": "https://localhost:8080/"
        }
      },
      "source": [
        "#Identificando a presença de dados ausentes\n",
        "df.isna().sum()"
      ],
      "execution_count": null,
      "outputs": [
        {
          "output_type": "execute_result",
          "data": {
            "text/plain": [
              "Nome do Álbum         0\n",
              "Data de Lançamento    0\n",
              "ID do Álbum           0\n",
              "URL do Álbum          0\n",
              "dtype: int64"
            ]
          },
          "metadata": {},
          "execution_count": 75
        }
      ]
    },
    {
      "cell_type": "markdown",
      "metadata": {
        "id": "a1PqLMmtQgQ0"
      },
      "source": [
        "O dataset do artista Coldplay que foi retirado do spotify não possui dados ausentes, porém, muita das vezes uma coluna pode ter o registro de dados e os dados ainda assim serem dados ausentes (ocultos), ou seja, é informado pelo método que o conjunto de dados não possui valores ausentes ou nulos, por todos os dados estarem registrados, entranto, esse registro de dados não tem valor significativo e os dados não passam nenhuma informação util. Casos como esse de dados ausentes ocultos, acontece em sua maioria quando quem coleta os dados e constroi o dataset não  tem o valor ou informação exata e faz o registro de dados com um valor qualquer, como 0."
      ]
    },
    {
      "cell_type": "markdown",
      "metadata": {
        "id": "Zyk_uhF52w6_"
      },
      "source": [
        "A melhor solução para casos como esse é analisar com calma os primeiros, ultimos e amostras aleatórias dos registros, averiguando se os dados realmente passam alguma informação e significado, já que não temos dados ausentes."
      ]
    },
    {
      "cell_type": "code",
      "metadata": {
        "id": "FxLO7mHY2v_U",
        "outputId": "87a8c7aa-2864-4e7b-cd50-d48ce45106d1",
        "colab": {
          "base_uri": "https://localhost:8080/"
        }
      },
      "source": [
        "import pandas as pd\n",
        "\n",
        "# Função para obter as 10 melhores músicas de um artista\n",
        "def get_top_tracks(artist_id):\n",
        "    top_tracks = spot.artist_top_tracks(artist_id)\n",
        "    tracks_data = []\n",
        "\n",
        "    for track in top_tracks['tracks'][:10]:  # Obtém as 10 melhores músicas\n",
        "        track_data = {\n",
        "            'Nome da Música': track['name'],\n",
        "            'Popularidade': track['popularity'],\n",
        "            'ID da Música': track['id'],\n",
        "        }\n",
        "        tracks_data.append(track_data)\n",
        "\n",
        "    return pd.DataFrame(tracks_data)\n",
        "\n",
        "# Substitua 'Nome do Artista' pelo artista desejado\n",
        "artist_name = 'Coldplay'\n",
        "result = spot.search(artist_name, type='artist')\n",
        "artist = result['artists']['items'][0]\n",
        "\n",
        "# Obtém o DataFrame das 10 melhores músicas\n",
        "top_tracks_df = get_top_tracks(artist['id'])\n",
        "\n",
        "# Exibe o DataFrame\n",
        "print(top_tracks_df)"
      ],
      "execution_count": null,
      "outputs": [
        {
          "output_type": "stream",
          "name": "stdout",
          "text": [
            "             Nome da Música  Popularidade            ID da Música\n",
            "0                    Yellow            91  3AJwUDP919kvQ9QcozQPxg\n",
            "1              Viva La Vida            88  1mea3bSkSGXuIRvnydlB5b\n",
            "2  Something Just Like This            87  6RUKPb4LETWmmr3iAEQktW\n",
            "3                    Sparks            88  7D0RhFcb3CrfPuTJ0obrod\n",
            "4       A Sky Full of Stars            87  0FDzzruyVECATHXKHFs9eJ\n",
            "5             The Scientist            87  75JFxkI2RXiU7L9VXzMkle\n",
            "6                  Paradise            85  6nek1Nin9q48AVZcWs9e9D\n",
            "7                   Fix You            85  7LVHVU3tWfcxj5aiPFEW4Q\n",
            "8               My Universe            80  46HNZY1i7O6jwTA7Slo2PI\n",
            "9      Hymn for the Weekend            85  3RiPr603aXAoi4GHyXx0uy\n"
          ]
        }
      ]
    },
    {
      "cell_type": "code",
      "metadata": {
        "id": "iDJkyVnM43rm",
        "outputId": "0e4ca63c-ce1f-4bce-dceb-1cc2932f8c4b",
        "colab": {
          "base_uri": "https://localhost:8080/",
          "height": 487
        }
      },
      "source": [
        "#Os 10 últimos registros\n",
        "df.tail(10)"
      ],
      "execution_count": null,
      "outputs": [
        {
          "output_type": "execute_result",
          "data": {
            "text/plain": [
              "                                Nome do Álbum Data de Lançamento  \\\n",
              "5                               Ghost Stories         2014-05-19   \n",
              "6                                   Live 2012         2012-11-19   \n",
              "7                                 Mylo Xyloto         2011-10-24   \n",
              "8               LeftRightLeftRightLeft (Live)         2009-05-15   \n",
              "9     Viva La Vida (Prospekt's March Edition)         2008-11-24   \n",
              "10  Viva La Vida or Death and All His Friends         2008-05-26   \n",
              "11                                        X&Y         2005-06-07   \n",
              "12                                  Live 2003         2003-11-01   \n",
              "13                A Rush of Blood to the Head         2002-08-08   \n",
              "14                                 Parachutes         2000-07-10   \n",
              "\n",
              "               ID do Álbum                                       URL do Álbum  \n",
              "5   2G4AUqfwxcV1UdQjm2ouYr  https://open.spotify.com/album/2G4AUqfwxcV1UdQ...  \n",
              "6   2OkEsqGTfu8PWRrNHzfr0m  https://open.spotify.com/album/2OkEsqGTfu8PWRr...  \n",
              "7   2R7iJz5uaHjLEVnMkloO18  https://open.spotify.com/album/2R7iJz5uaHjLEVn...  \n",
              "8   3pboBm7GTa6V5dFXXCt52b  https://open.spotify.com/album/3pboBm7GTa6V5dF...  \n",
              "9   4XTT0NcNHyvl6h9JX2AfEi  https://open.spotify.com/album/4XTT0NcNHyvl6h9...  \n",
              "10  1CEODgTmTwLyabvwd7HBty  https://open.spotify.com/album/1CEODgTmTwLyabv...  \n",
              "11  4E7bV0pzG0LciBSWTszra6  https://open.spotify.com/album/4E7bV0pzG0LciBS...  \n",
              "12  3JMOZD2qixTTLRW9I6JuF4  https://open.spotify.com/album/3JMOZD2qixTTLRW...  \n",
              "13  0RHX9XECH8IVI3LNgWDpmQ  https://open.spotify.com/album/0RHX9XECH8IVI3L...  \n",
              "14  6ZG5lRT77aJ3btmArcykra  https://open.spotify.com/album/6ZG5lRT77aJ3btm...  "
            ],
            "text/html": [
              "\n",
              "  <div id=\"df-93ec98b8-5d9c-4765-a68e-b5725b493d95\" class=\"colab-df-container\">\n",
              "    <div>\n",
              "<style scoped>\n",
              "    .dataframe tbody tr th:only-of-type {\n",
              "        vertical-align: middle;\n",
              "    }\n",
              "\n",
              "    .dataframe tbody tr th {\n",
              "        vertical-align: top;\n",
              "    }\n",
              "\n",
              "    .dataframe thead th {\n",
              "        text-align: right;\n",
              "    }\n",
              "</style>\n",
              "<table border=\"1\" class=\"dataframe\">\n",
              "  <thead>\n",
              "    <tr style=\"text-align: right;\">\n",
              "      <th></th>\n",
              "      <th>Nome do Álbum</th>\n",
              "      <th>Data de Lançamento</th>\n",
              "      <th>ID do Álbum</th>\n",
              "      <th>URL do Álbum</th>\n",
              "    </tr>\n",
              "  </thead>\n",
              "  <tbody>\n",
              "    <tr>\n",
              "      <th>5</th>\n",
              "      <td>Ghost Stories</td>\n",
              "      <td>2014-05-19</td>\n",
              "      <td>2G4AUqfwxcV1UdQjm2ouYr</td>\n",
              "      <td>https://open.spotify.com/album/2G4AUqfwxcV1UdQ...</td>\n",
              "    </tr>\n",
              "    <tr>\n",
              "      <th>6</th>\n",
              "      <td>Live 2012</td>\n",
              "      <td>2012-11-19</td>\n",
              "      <td>2OkEsqGTfu8PWRrNHzfr0m</td>\n",
              "      <td>https://open.spotify.com/album/2OkEsqGTfu8PWRr...</td>\n",
              "    </tr>\n",
              "    <tr>\n",
              "      <th>7</th>\n",
              "      <td>Mylo Xyloto</td>\n",
              "      <td>2011-10-24</td>\n",
              "      <td>2R7iJz5uaHjLEVnMkloO18</td>\n",
              "      <td>https://open.spotify.com/album/2R7iJz5uaHjLEVn...</td>\n",
              "    </tr>\n",
              "    <tr>\n",
              "      <th>8</th>\n",
              "      <td>LeftRightLeftRightLeft (Live)</td>\n",
              "      <td>2009-05-15</td>\n",
              "      <td>3pboBm7GTa6V5dFXXCt52b</td>\n",
              "      <td>https://open.spotify.com/album/3pboBm7GTa6V5dF...</td>\n",
              "    </tr>\n",
              "    <tr>\n",
              "      <th>9</th>\n",
              "      <td>Viva La Vida (Prospekt's March Edition)</td>\n",
              "      <td>2008-11-24</td>\n",
              "      <td>4XTT0NcNHyvl6h9JX2AfEi</td>\n",
              "      <td>https://open.spotify.com/album/4XTT0NcNHyvl6h9...</td>\n",
              "    </tr>\n",
              "    <tr>\n",
              "      <th>10</th>\n",
              "      <td>Viva La Vida or Death and All His Friends</td>\n",
              "      <td>2008-05-26</td>\n",
              "      <td>1CEODgTmTwLyabvwd7HBty</td>\n",
              "      <td>https://open.spotify.com/album/1CEODgTmTwLyabv...</td>\n",
              "    </tr>\n",
              "    <tr>\n",
              "      <th>11</th>\n",
              "      <td>X&amp;Y</td>\n",
              "      <td>2005-06-07</td>\n",
              "      <td>4E7bV0pzG0LciBSWTszra6</td>\n",
              "      <td>https://open.spotify.com/album/4E7bV0pzG0LciBS...</td>\n",
              "    </tr>\n",
              "    <tr>\n",
              "      <th>12</th>\n",
              "      <td>Live 2003</td>\n",
              "      <td>2003-11-01</td>\n",
              "      <td>3JMOZD2qixTTLRW9I6JuF4</td>\n",
              "      <td>https://open.spotify.com/album/3JMOZD2qixTTLRW...</td>\n",
              "    </tr>\n",
              "    <tr>\n",
              "      <th>13</th>\n",
              "      <td>A Rush of Blood to the Head</td>\n",
              "      <td>2002-08-08</td>\n",
              "      <td>0RHX9XECH8IVI3LNgWDpmQ</td>\n",
              "      <td>https://open.spotify.com/album/0RHX9XECH8IVI3L...</td>\n",
              "    </tr>\n",
              "    <tr>\n",
              "      <th>14</th>\n",
              "      <td>Parachutes</td>\n",
              "      <td>2000-07-10</td>\n",
              "      <td>6ZG5lRT77aJ3btmArcykra</td>\n",
              "      <td>https://open.spotify.com/album/6ZG5lRT77aJ3btm...</td>\n",
              "    </tr>\n",
              "  </tbody>\n",
              "</table>\n",
              "</div>\n",
              "    <div class=\"colab-df-buttons\">\n",
              "\n",
              "  <div class=\"colab-df-container\">\n",
              "    <button class=\"colab-df-convert\" onclick=\"convertToInteractive('df-93ec98b8-5d9c-4765-a68e-b5725b493d95')\"\n",
              "            title=\"Convert this dataframe to an interactive table.\"\n",
              "            style=\"display:none;\">\n",
              "\n",
              "  <svg xmlns=\"http://www.w3.org/2000/svg\" height=\"24px\" viewBox=\"0 -960 960 960\">\n",
              "    <path d=\"M120-120v-720h720v720H120Zm60-500h600v-160H180v160Zm220 220h160v-160H400v160Zm0 220h160v-160H400v160ZM180-400h160v-160H180v160Zm440 0h160v-160H620v160ZM180-180h160v-160H180v160Zm440 0h160v-160H620v160Z\"/>\n",
              "  </svg>\n",
              "    </button>\n",
              "\n",
              "  <style>\n",
              "    .colab-df-container {\n",
              "      display:flex;\n",
              "      gap: 12px;\n",
              "    }\n",
              "\n",
              "    .colab-df-convert {\n",
              "      background-color: #E8F0FE;\n",
              "      border: none;\n",
              "      border-radius: 50%;\n",
              "      cursor: pointer;\n",
              "      display: none;\n",
              "      fill: #1967D2;\n",
              "      height: 32px;\n",
              "      padding: 0 0 0 0;\n",
              "      width: 32px;\n",
              "    }\n",
              "\n",
              "    .colab-df-convert:hover {\n",
              "      background-color: #E2EBFA;\n",
              "      box-shadow: 0px 1px 2px rgba(60, 64, 67, 0.3), 0px 1px 3px 1px rgba(60, 64, 67, 0.15);\n",
              "      fill: #174EA6;\n",
              "    }\n",
              "\n",
              "    .colab-df-buttons div {\n",
              "      margin-bottom: 4px;\n",
              "    }\n",
              "\n",
              "    [theme=dark] .colab-df-convert {\n",
              "      background-color: #3B4455;\n",
              "      fill: #D2E3FC;\n",
              "    }\n",
              "\n",
              "    [theme=dark] .colab-df-convert:hover {\n",
              "      background-color: #434B5C;\n",
              "      box-shadow: 0px 1px 3px 1px rgba(0, 0, 0, 0.15);\n",
              "      filter: drop-shadow(0px 1px 2px rgba(0, 0, 0, 0.3));\n",
              "      fill: #FFFFFF;\n",
              "    }\n",
              "  </style>\n",
              "\n",
              "    <script>\n",
              "      const buttonEl =\n",
              "        document.querySelector('#df-93ec98b8-5d9c-4765-a68e-b5725b493d95 button.colab-df-convert');\n",
              "      buttonEl.style.display =\n",
              "        google.colab.kernel.accessAllowed ? 'block' : 'none';\n",
              "\n",
              "      async function convertToInteractive(key) {\n",
              "        const element = document.querySelector('#df-93ec98b8-5d9c-4765-a68e-b5725b493d95');\n",
              "        const dataTable =\n",
              "          await google.colab.kernel.invokeFunction('convertToInteractive',\n",
              "                                                    [key], {});\n",
              "        if (!dataTable) return;\n",
              "\n",
              "        const docLinkHtml = 'Like what you see? Visit the ' +\n",
              "          '<a target=\"_blank\" href=https://colab.research.google.com/notebooks/data_table.ipynb>data table notebook</a>'\n",
              "          + ' to learn more about interactive tables.';\n",
              "        element.innerHTML = '';\n",
              "        dataTable['output_type'] = 'display_data';\n",
              "        await google.colab.output.renderOutput(dataTable, element);\n",
              "        const docLink = document.createElement('div');\n",
              "        docLink.innerHTML = docLinkHtml;\n",
              "        element.appendChild(docLink);\n",
              "      }\n",
              "    </script>\n",
              "  </div>\n",
              "\n",
              "\n",
              "<div id=\"df-2eb05f4f-2f6a-4573-baa0-f9d58c3f3210\">\n",
              "  <button class=\"colab-df-quickchart\" onclick=\"quickchart('df-2eb05f4f-2f6a-4573-baa0-f9d58c3f3210')\"\n",
              "            title=\"Suggest charts\"\n",
              "            style=\"display:none;\">\n",
              "\n",
              "<svg xmlns=\"http://www.w3.org/2000/svg\" height=\"24px\"viewBox=\"0 0 24 24\"\n",
              "     width=\"24px\">\n",
              "    <g>\n",
              "        <path d=\"M19 3H5c-1.1 0-2 .9-2 2v14c0 1.1.9 2 2 2h14c1.1 0 2-.9 2-2V5c0-1.1-.9-2-2-2zM9 17H7v-7h2v7zm4 0h-2V7h2v10zm4 0h-2v-4h2v4z\"/>\n",
              "    </g>\n",
              "</svg>\n",
              "  </button>\n",
              "\n",
              "<style>\n",
              "  .colab-df-quickchart {\n",
              "      --bg-color: #E8F0FE;\n",
              "      --fill-color: #1967D2;\n",
              "      --hover-bg-color: #E2EBFA;\n",
              "      --hover-fill-color: #174EA6;\n",
              "      --disabled-fill-color: #AAA;\n",
              "      --disabled-bg-color: #DDD;\n",
              "  }\n",
              "\n",
              "  [theme=dark] .colab-df-quickchart {\n",
              "      --bg-color: #3B4455;\n",
              "      --fill-color: #D2E3FC;\n",
              "      --hover-bg-color: #434B5C;\n",
              "      --hover-fill-color: #FFFFFF;\n",
              "      --disabled-bg-color: #3B4455;\n",
              "      --disabled-fill-color: #666;\n",
              "  }\n",
              "\n",
              "  .colab-df-quickchart {\n",
              "    background-color: var(--bg-color);\n",
              "    border: none;\n",
              "    border-radius: 50%;\n",
              "    cursor: pointer;\n",
              "    display: none;\n",
              "    fill: var(--fill-color);\n",
              "    height: 32px;\n",
              "    padding: 0;\n",
              "    width: 32px;\n",
              "  }\n",
              "\n",
              "  .colab-df-quickchart:hover {\n",
              "    background-color: var(--hover-bg-color);\n",
              "    box-shadow: 0 1px 2px rgba(60, 64, 67, 0.3), 0 1px 3px 1px rgba(60, 64, 67, 0.15);\n",
              "    fill: var(--button-hover-fill-color);\n",
              "  }\n",
              "\n",
              "  .colab-df-quickchart-complete:disabled,\n",
              "  .colab-df-quickchart-complete:disabled:hover {\n",
              "    background-color: var(--disabled-bg-color);\n",
              "    fill: var(--disabled-fill-color);\n",
              "    box-shadow: none;\n",
              "  }\n",
              "\n",
              "  .colab-df-spinner {\n",
              "    border: 2px solid var(--fill-color);\n",
              "    border-color: transparent;\n",
              "    border-bottom-color: var(--fill-color);\n",
              "    animation:\n",
              "      spin 1s steps(1) infinite;\n",
              "  }\n",
              "\n",
              "  @keyframes spin {\n",
              "    0% {\n",
              "      border-color: transparent;\n",
              "      border-bottom-color: var(--fill-color);\n",
              "      border-left-color: var(--fill-color);\n",
              "    }\n",
              "    20% {\n",
              "      border-color: transparent;\n",
              "      border-left-color: var(--fill-color);\n",
              "      border-top-color: var(--fill-color);\n",
              "    }\n",
              "    30% {\n",
              "      border-color: transparent;\n",
              "      border-left-color: var(--fill-color);\n",
              "      border-top-color: var(--fill-color);\n",
              "      border-right-color: var(--fill-color);\n",
              "    }\n",
              "    40% {\n",
              "      border-color: transparent;\n",
              "      border-right-color: var(--fill-color);\n",
              "      border-top-color: var(--fill-color);\n",
              "    }\n",
              "    60% {\n",
              "      border-color: transparent;\n",
              "      border-right-color: var(--fill-color);\n",
              "    }\n",
              "    80% {\n",
              "      border-color: transparent;\n",
              "      border-right-color: var(--fill-color);\n",
              "      border-bottom-color: var(--fill-color);\n",
              "    }\n",
              "    90% {\n",
              "      border-color: transparent;\n",
              "      border-bottom-color: var(--fill-color);\n",
              "    }\n",
              "  }\n",
              "</style>\n",
              "\n",
              "  <script>\n",
              "    async function quickchart(key) {\n",
              "      const quickchartButtonEl =\n",
              "        document.querySelector('#' + key + ' button');\n",
              "      quickchartButtonEl.disabled = true;  // To prevent multiple clicks.\n",
              "      quickchartButtonEl.classList.add('colab-df-spinner');\n",
              "      try {\n",
              "        const charts = await google.colab.kernel.invokeFunction(\n",
              "            'suggestCharts', [key], {});\n",
              "      } catch (error) {\n",
              "        console.error('Error during call to suggestCharts:', error);\n",
              "      }\n",
              "      quickchartButtonEl.classList.remove('colab-df-spinner');\n",
              "      quickchartButtonEl.classList.add('colab-df-quickchart-complete');\n",
              "    }\n",
              "    (() => {\n",
              "      let quickchartButtonEl =\n",
              "        document.querySelector('#df-2eb05f4f-2f6a-4573-baa0-f9d58c3f3210 button');\n",
              "      quickchartButtonEl.style.display =\n",
              "        google.colab.kernel.accessAllowed ? 'block' : 'none';\n",
              "    })();\n",
              "  </script>\n",
              "</div>\n",
              "    </div>\n",
              "  </div>\n"
            ]
          },
          "metadata": {},
          "execution_count": 66
        }
      ]
    },
    {
      "cell_type": "code",
      "metadata": {
        "id": "qDq6HmiEXzun",
        "outputId": "9eb38c36-6da0-496a-dc6e-517b0c5d01df",
        "colab": {
          "base_uri": "https://localhost:8080/",
          "height": 487
        }
      },
      "source": [
        "#Amostra aleatória de 10 registros\n",
        "df.sample(10)"
      ],
      "execution_count": null,
      "outputs": [
        {
          "output_type": "execute_result",
          "data": {
            "text/plain": [
              "                                Nome do Álbum Data de Lançamento  \\\n",
              "7                                 Mylo Xyloto         2011-10-24   \n",
              "5                               Ghost Stories         2014-05-19   \n",
              "14                                 Parachutes         2000-07-10   \n",
              "11                                        X&Y         2005-06-07   \n",
              "13                A Rush of Blood to the Head         2002-08-08   \n",
              "8               LeftRightLeftRightLeft (Live)         2009-05-15   \n",
              "2                        Live in Buenos Aires         2018-12-07   \n",
              "0                        Music Of The Spheres         2021-10-15   \n",
              "3                       A Head Full of Dreams         2015-12-04   \n",
              "10  Viva La Vida or Death and All His Friends         2008-05-26   \n",
              "\n",
              "               ID do Álbum                                       URL do Álbum  \n",
              "7   2R7iJz5uaHjLEVnMkloO18  https://open.spotify.com/album/2R7iJz5uaHjLEVn...  \n",
              "5   2G4AUqfwxcV1UdQjm2ouYr  https://open.spotify.com/album/2G4AUqfwxcV1UdQ...  \n",
              "14  6ZG5lRT77aJ3btmArcykra  https://open.spotify.com/album/6ZG5lRT77aJ3btm...  \n",
              "11  4E7bV0pzG0LciBSWTszra6  https://open.spotify.com/album/4E7bV0pzG0LciBS...  \n",
              "13  0RHX9XECH8IVI3LNgWDpmQ  https://open.spotify.com/album/0RHX9XECH8IVI3L...  \n",
              "8   3pboBm7GTa6V5dFXXCt52b  https://open.spotify.com/album/3pboBm7GTa6V5dF...  \n",
              "2   19CvkGjYpifkdwgVJSbog2  https://open.spotify.com/album/19CvkGjYpifkdwg...  \n",
              "0   06mXfvDsRZNfnsGZvX2zpb  https://open.spotify.com/album/06mXfvDsRZNfnsG...  \n",
              "3   3cfAM8b8KqJRoIzt3zLKqw  https://open.spotify.com/album/3cfAM8b8KqJRoIz...  \n",
              "10  1CEODgTmTwLyabvwd7HBty  https://open.spotify.com/album/1CEODgTmTwLyabv...  "
            ],
            "text/html": [
              "\n",
              "  <div id=\"df-b80cf0fd-c60e-46df-874b-503c1f598115\" class=\"colab-df-container\">\n",
              "    <div>\n",
              "<style scoped>\n",
              "    .dataframe tbody tr th:only-of-type {\n",
              "        vertical-align: middle;\n",
              "    }\n",
              "\n",
              "    .dataframe tbody tr th {\n",
              "        vertical-align: top;\n",
              "    }\n",
              "\n",
              "    .dataframe thead th {\n",
              "        text-align: right;\n",
              "    }\n",
              "</style>\n",
              "<table border=\"1\" class=\"dataframe\">\n",
              "  <thead>\n",
              "    <tr style=\"text-align: right;\">\n",
              "      <th></th>\n",
              "      <th>Nome do Álbum</th>\n",
              "      <th>Data de Lançamento</th>\n",
              "      <th>ID do Álbum</th>\n",
              "      <th>URL do Álbum</th>\n",
              "    </tr>\n",
              "  </thead>\n",
              "  <tbody>\n",
              "    <tr>\n",
              "      <th>7</th>\n",
              "      <td>Mylo Xyloto</td>\n",
              "      <td>2011-10-24</td>\n",
              "      <td>2R7iJz5uaHjLEVnMkloO18</td>\n",
              "      <td>https://open.spotify.com/album/2R7iJz5uaHjLEVn...</td>\n",
              "    </tr>\n",
              "    <tr>\n",
              "      <th>5</th>\n",
              "      <td>Ghost Stories</td>\n",
              "      <td>2014-05-19</td>\n",
              "      <td>2G4AUqfwxcV1UdQjm2ouYr</td>\n",
              "      <td>https://open.spotify.com/album/2G4AUqfwxcV1UdQ...</td>\n",
              "    </tr>\n",
              "    <tr>\n",
              "      <th>14</th>\n",
              "      <td>Parachutes</td>\n",
              "      <td>2000-07-10</td>\n",
              "      <td>6ZG5lRT77aJ3btmArcykra</td>\n",
              "      <td>https://open.spotify.com/album/6ZG5lRT77aJ3btm...</td>\n",
              "    </tr>\n",
              "    <tr>\n",
              "      <th>11</th>\n",
              "      <td>X&amp;Y</td>\n",
              "      <td>2005-06-07</td>\n",
              "      <td>4E7bV0pzG0LciBSWTszra6</td>\n",
              "      <td>https://open.spotify.com/album/4E7bV0pzG0LciBS...</td>\n",
              "    </tr>\n",
              "    <tr>\n",
              "      <th>13</th>\n",
              "      <td>A Rush of Blood to the Head</td>\n",
              "      <td>2002-08-08</td>\n",
              "      <td>0RHX9XECH8IVI3LNgWDpmQ</td>\n",
              "      <td>https://open.spotify.com/album/0RHX9XECH8IVI3L...</td>\n",
              "    </tr>\n",
              "    <tr>\n",
              "      <th>8</th>\n",
              "      <td>LeftRightLeftRightLeft (Live)</td>\n",
              "      <td>2009-05-15</td>\n",
              "      <td>3pboBm7GTa6V5dFXXCt52b</td>\n",
              "      <td>https://open.spotify.com/album/3pboBm7GTa6V5dF...</td>\n",
              "    </tr>\n",
              "    <tr>\n",
              "      <th>2</th>\n",
              "      <td>Live in Buenos Aires</td>\n",
              "      <td>2018-12-07</td>\n",
              "      <td>19CvkGjYpifkdwgVJSbog2</td>\n",
              "      <td>https://open.spotify.com/album/19CvkGjYpifkdwg...</td>\n",
              "    </tr>\n",
              "    <tr>\n",
              "      <th>0</th>\n",
              "      <td>Music Of The Spheres</td>\n",
              "      <td>2021-10-15</td>\n",
              "      <td>06mXfvDsRZNfnsGZvX2zpb</td>\n",
              "      <td>https://open.spotify.com/album/06mXfvDsRZNfnsG...</td>\n",
              "    </tr>\n",
              "    <tr>\n",
              "      <th>3</th>\n",
              "      <td>A Head Full of Dreams</td>\n",
              "      <td>2015-12-04</td>\n",
              "      <td>3cfAM8b8KqJRoIzt3zLKqw</td>\n",
              "      <td>https://open.spotify.com/album/3cfAM8b8KqJRoIz...</td>\n",
              "    </tr>\n",
              "    <tr>\n",
              "      <th>10</th>\n",
              "      <td>Viva La Vida or Death and All His Friends</td>\n",
              "      <td>2008-05-26</td>\n",
              "      <td>1CEODgTmTwLyabvwd7HBty</td>\n",
              "      <td>https://open.spotify.com/album/1CEODgTmTwLyabv...</td>\n",
              "    </tr>\n",
              "  </tbody>\n",
              "</table>\n",
              "</div>\n",
              "    <div class=\"colab-df-buttons\">\n",
              "\n",
              "  <div class=\"colab-df-container\">\n",
              "    <button class=\"colab-df-convert\" onclick=\"convertToInteractive('df-b80cf0fd-c60e-46df-874b-503c1f598115')\"\n",
              "            title=\"Convert this dataframe to an interactive table.\"\n",
              "            style=\"display:none;\">\n",
              "\n",
              "  <svg xmlns=\"http://www.w3.org/2000/svg\" height=\"24px\" viewBox=\"0 -960 960 960\">\n",
              "    <path d=\"M120-120v-720h720v720H120Zm60-500h600v-160H180v160Zm220 220h160v-160H400v160Zm0 220h160v-160H400v160ZM180-400h160v-160H180v160Zm440 0h160v-160H620v160ZM180-180h160v-160H180v160Zm440 0h160v-160H620v160Z\"/>\n",
              "  </svg>\n",
              "    </button>\n",
              "\n",
              "  <style>\n",
              "    .colab-df-container {\n",
              "      display:flex;\n",
              "      gap: 12px;\n",
              "    }\n",
              "\n",
              "    .colab-df-convert {\n",
              "      background-color: #E8F0FE;\n",
              "      border: none;\n",
              "      border-radius: 50%;\n",
              "      cursor: pointer;\n",
              "      display: none;\n",
              "      fill: #1967D2;\n",
              "      height: 32px;\n",
              "      padding: 0 0 0 0;\n",
              "      width: 32px;\n",
              "    }\n",
              "\n",
              "    .colab-df-convert:hover {\n",
              "      background-color: #E2EBFA;\n",
              "      box-shadow: 0px 1px 2px rgba(60, 64, 67, 0.3), 0px 1px 3px 1px rgba(60, 64, 67, 0.15);\n",
              "      fill: #174EA6;\n",
              "    }\n",
              "\n",
              "    .colab-df-buttons div {\n",
              "      margin-bottom: 4px;\n",
              "    }\n",
              "\n",
              "    [theme=dark] .colab-df-convert {\n",
              "      background-color: #3B4455;\n",
              "      fill: #D2E3FC;\n",
              "    }\n",
              "\n",
              "    [theme=dark] .colab-df-convert:hover {\n",
              "      background-color: #434B5C;\n",
              "      box-shadow: 0px 1px 3px 1px rgba(0, 0, 0, 0.15);\n",
              "      filter: drop-shadow(0px 1px 2px rgba(0, 0, 0, 0.3));\n",
              "      fill: #FFFFFF;\n",
              "    }\n",
              "  </style>\n",
              "\n",
              "    <script>\n",
              "      const buttonEl =\n",
              "        document.querySelector('#df-b80cf0fd-c60e-46df-874b-503c1f598115 button.colab-df-convert');\n",
              "      buttonEl.style.display =\n",
              "        google.colab.kernel.accessAllowed ? 'block' : 'none';\n",
              "\n",
              "      async function convertToInteractive(key) {\n",
              "        const element = document.querySelector('#df-b80cf0fd-c60e-46df-874b-503c1f598115');\n",
              "        const dataTable =\n",
              "          await google.colab.kernel.invokeFunction('convertToInteractive',\n",
              "                                                    [key], {});\n",
              "        if (!dataTable) return;\n",
              "\n",
              "        const docLinkHtml = 'Like what you see? Visit the ' +\n",
              "          '<a target=\"_blank\" href=https://colab.research.google.com/notebooks/data_table.ipynb>data table notebook</a>'\n",
              "          + ' to learn more about interactive tables.';\n",
              "        element.innerHTML = '';\n",
              "        dataTable['output_type'] = 'display_data';\n",
              "        await google.colab.output.renderOutput(dataTable, element);\n",
              "        const docLink = document.createElement('div');\n",
              "        docLink.innerHTML = docLinkHtml;\n",
              "        element.appendChild(docLink);\n",
              "      }\n",
              "    </script>\n",
              "  </div>\n",
              "\n",
              "\n",
              "<div id=\"df-db3f2708-4676-40b8-b96e-9f7af2d933e9\">\n",
              "  <button class=\"colab-df-quickchart\" onclick=\"quickchart('df-db3f2708-4676-40b8-b96e-9f7af2d933e9')\"\n",
              "            title=\"Suggest charts\"\n",
              "            style=\"display:none;\">\n",
              "\n",
              "<svg xmlns=\"http://www.w3.org/2000/svg\" height=\"24px\"viewBox=\"0 0 24 24\"\n",
              "     width=\"24px\">\n",
              "    <g>\n",
              "        <path d=\"M19 3H5c-1.1 0-2 .9-2 2v14c0 1.1.9 2 2 2h14c1.1 0 2-.9 2-2V5c0-1.1-.9-2-2-2zM9 17H7v-7h2v7zm4 0h-2V7h2v10zm4 0h-2v-4h2v4z\"/>\n",
              "    </g>\n",
              "</svg>\n",
              "  </button>\n",
              "\n",
              "<style>\n",
              "  .colab-df-quickchart {\n",
              "      --bg-color: #E8F0FE;\n",
              "      --fill-color: #1967D2;\n",
              "      --hover-bg-color: #E2EBFA;\n",
              "      --hover-fill-color: #174EA6;\n",
              "      --disabled-fill-color: #AAA;\n",
              "      --disabled-bg-color: #DDD;\n",
              "  }\n",
              "\n",
              "  [theme=dark] .colab-df-quickchart {\n",
              "      --bg-color: #3B4455;\n",
              "      --fill-color: #D2E3FC;\n",
              "      --hover-bg-color: #434B5C;\n",
              "      --hover-fill-color: #FFFFFF;\n",
              "      --disabled-bg-color: #3B4455;\n",
              "      --disabled-fill-color: #666;\n",
              "  }\n",
              "\n",
              "  .colab-df-quickchart {\n",
              "    background-color: var(--bg-color);\n",
              "    border: none;\n",
              "    border-radius: 50%;\n",
              "    cursor: pointer;\n",
              "    display: none;\n",
              "    fill: var(--fill-color);\n",
              "    height: 32px;\n",
              "    padding: 0;\n",
              "    width: 32px;\n",
              "  }\n",
              "\n",
              "  .colab-df-quickchart:hover {\n",
              "    background-color: var(--hover-bg-color);\n",
              "    box-shadow: 0 1px 2px rgba(60, 64, 67, 0.3), 0 1px 3px 1px rgba(60, 64, 67, 0.15);\n",
              "    fill: var(--button-hover-fill-color);\n",
              "  }\n",
              "\n",
              "  .colab-df-quickchart-complete:disabled,\n",
              "  .colab-df-quickchart-complete:disabled:hover {\n",
              "    background-color: var(--disabled-bg-color);\n",
              "    fill: var(--disabled-fill-color);\n",
              "    box-shadow: none;\n",
              "  }\n",
              "\n",
              "  .colab-df-spinner {\n",
              "    border: 2px solid var(--fill-color);\n",
              "    border-color: transparent;\n",
              "    border-bottom-color: var(--fill-color);\n",
              "    animation:\n",
              "      spin 1s steps(1) infinite;\n",
              "  }\n",
              "\n",
              "  @keyframes spin {\n",
              "    0% {\n",
              "      border-color: transparent;\n",
              "      border-bottom-color: var(--fill-color);\n",
              "      border-left-color: var(--fill-color);\n",
              "    }\n",
              "    20% {\n",
              "      border-color: transparent;\n",
              "      border-left-color: var(--fill-color);\n",
              "      border-top-color: var(--fill-color);\n",
              "    }\n",
              "    30% {\n",
              "      border-color: transparent;\n",
              "      border-left-color: var(--fill-color);\n",
              "      border-top-color: var(--fill-color);\n",
              "      border-right-color: var(--fill-color);\n",
              "    }\n",
              "    40% {\n",
              "      border-color: transparent;\n",
              "      border-right-color: var(--fill-color);\n",
              "      border-top-color: var(--fill-color);\n",
              "    }\n",
              "    60% {\n",
              "      border-color: transparent;\n",
              "      border-right-color: var(--fill-color);\n",
              "    }\n",
              "    80% {\n",
              "      border-color: transparent;\n",
              "      border-right-color: var(--fill-color);\n",
              "      border-bottom-color: var(--fill-color);\n",
              "    }\n",
              "    90% {\n",
              "      border-color: transparent;\n",
              "      border-bottom-color: var(--fill-color);\n",
              "    }\n",
              "  }\n",
              "</style>\n",
              "\n",
              "  <script>\n",
              "    async function quickchart(key) {\n",
              "      const quickchartButtonEl =\n",
              "        document.querySelector('#' + key + ' button');\n",
              "      quickchartButtonEl.disabled = true;  // To prevent multiple clicks.\n",
              "      quickchartButtonEl.classList.add('colab-df-spinner');\n",
              "      try {\n",
              "        const charts = await google.colab.kernel.invokeFunction(\n",
              "            'suggestCharts', [key], {});\n",
              "      } catch (error) {\n",
              "        console.error('Error during call to suggestCharts:', error);\n",
              "      }\n",
              "      quickchartButtonEl.classList.remove('colab-df-spinner');\n",
              "      quickchartButtonEl.classList.add('colab-df-quickchart-complete');\n",
              "    }\n",
              "    (() => {\n",
              "      let quickchartButtonEl =\n",
              "        document.querySelector('#df-db3f2708-4676-40b8-b96e-9f7af2d933e9 button');\n",
              "      quickchartButtonEl.style.display =\n",
              "        google.colab.kernel.accessAllowed ? 'block' : 'none';\n",
              "    })();\n",
              "  </script>\n",
              "</div>\n",
              "    </div>\n",
              "  </div>\n"
            ]
          },
          "metadata": {},
          "execution_count": 67
        }
      ]
    },
    {
      "cell_type": "markdown",
      "metadata": {
        "id": "gB0OLMab7v5T"
      },
      "source": [
        "### **Verificar os tipos de colunas**"
      ]
    },
    {
      "cell_type": "markdown",
      "metadata": {
        "id": "8wadGexE8g6R"
      },
      "source": [
        "Assim como pode ser feito registro de dados sem nenhum significado, por quem constroi o dataset, as colunas também podem ser preenchidas de forma incorreta, ou seja, uma coluna que trata-se de uma coluna do tipo inteira, pode estar como coluna do tipo float ou até mesmo string."
      ]
    },
    {
      "cell_type": "code",
      "metadata": {
        "id": "5BA_syqA70om",
        "outputId": "3b779e6f-e58b-48ab-d36d-f0a6f57d8df4",
        "colab": {
          "base_uri": "https://localhost:8080/"
        }
      },
      "source": [
        "#Verificando os tipos das colunas\n",
        "df.dtypes"
      ],
      "execution_count": null,
      "outputs": [
        {
          "output_type": "execute_result",
          "data": {
            "text/plain": [
              "Nome do Álbum         object\n",
              "Data de Lançamento    object\n",
              "ID do Álbum           object\n",
              "URL do Álbum          object\n",
              "dtype: object"
            ]
          },
          "metadata": {},
          "execution_count": 68
        }
      ]
    },
    {
      "cell_type": "code",
      "metadata": {
        "id": "vKtltNmfRaZW",
        "outputId": "f11c093d-5919-40ed-a499-c3eaac1ea03a",
        "colab": {
          "base_uri": "https://localhost:8080/"
        }
      },
      "source": [
        "#Quantidade de tipos das colunas\n",
        "df.dtypes.value_counts()"
      ],
      "execution_count": null,
      "outputs": [
        {
          "output_type": "execute_result",
          "data": {
            "text/plain": [
              "object    4\n",
              "dtype: int64"
            ]
          },
          "metadata": {},
          "execution_count": 73
        }
      ]
    },
    {
      "cell_type": "markdown",
      "metadata": {
        "id": "EVn5DLnq8j8F"
      },
      "source": [
        "Agora eu sei quais são os tipos das minhas colunas, mas ainda é preciso confirmar se os tipos foram registrados corretamente e para isso é preciso visualizar novamente os registros de dados de cada coluna, com atenção! Saber quais são os tipos das colunas e como manipulá-los é de extrema importância para a etapa futura de exploração dos dados."
      ]
    },
    {
      "cell_type": "code",
      "metadata": {
        "id": "1fxGcBj18pud",
        "outputId": "c7f2dd0d-2682-4e3d-be79-c9f6821e5993",
        "colab": {
          "base_uri": "https://localhost:8080/",
          "height": 295
        }
      },
      "source": [
        "#Visualizando novamente os dados\n",
        "df.sample(5)"
      ],
      "execution_count": null,
      "outputs": [
        {
          "output_type": "execute_result",
          "data": {
            "text/plain": [
              "                   Nome do Álbum Data de Lançamento             ID do Álbum  \\\n",
              "0           Music Of The Spheres         2021-10-15  06mXfvDsRZNfnsGZvX2zpb   \n",
              "2           Live in Buenos Aires         2018-12-07  19CvkGjYpifkdwgVJSbog2   \n",
              "3          A Head Full of Dreams         2015-12-04  3cfAM8b8KqJRoIzt3zLKqw   \n",
              "7                    Mylo Xyloto         2011-10-24  2R7iJz5uaHjLEVnMkloO18   \n",
              "8  LeftRightLeftRightLeft (Live)         2009-05-15  3pboBm7GTa6V5dFXXCt52b   \n",
              "\n",
              "                                        URL do Álbum  \n",
              "0  https://open.spotify.com/album/06mXfvDsRZNfnsG...  \n",
              "2  https://open.spotify.com/album/19CvkGjYpifkdwg...  \n",
              "3  https://open.spotify.com/album/3cfAM8b8KqJRoIz...  \n",
              "7  https://open.spotify.com/album/2R7iJz5uaHjLEVn...  \n",
              "8  https://open.spotify.com/album/3pboBm7GTa6V5dF...  "
            ],
            "text/html": [
              "\n",
              "  <div id=\"df-2fefaa01-e8e2-4aa6-8cf4-a3a97fd83191\" class=\"colab-df-container\">\n",
              "    <div>\n",
              "<style scoped>\n",
              "    .dataframe tbody tr th:only-of-type {\n",
              "        vertical-align: middle;\n",
              "    }\n",
              "\n",
              "    .dataframe tbody tr th {\n",
              "        vertical-align: top;\n",
              "    }\n",
              "\n",
              "    .dataframe thead th {\n",
              "        text-align: right;\n",
              "    }\n",
              "</style>\n",
              "<table border=\"1\" class=\"dataframe\">\n",
              "  <thead>\n",
              "    <tr style=\"text-align: right;\">\n",
              "      <th></th>\n",
              "      <th>Nome do Álbum</th>\n",
              "      <th>Data de Lançamento</th>\n",
              "      <th>ID do Álbum</th>\n",
              "      <th>URL do Álbum</th>\n",
              "    </tr>\n",
              "  </thead>\n",
              "  <tbody>\n",
              "    <tr>\n",
              "      <th>0</th>\n",
              "      <td>Music Of The Spheres</td>\n",
              "      <td>2021-10-15</td>\n",
              "      <td>06mXfvDsRZNfnsGZvX2zpb</td>\n",
              "      <td>https://open.spotify.com/album/06mXfvDsRZNfnsG...</td>\n",
              "    </tr>\n",
              "    <tr>\n",
              "      <th>2</th>\n",
              "      <td>Live in Buenos Aires</td>\n",
              "      <td>2018-12-07</td>\n",
              "      <td>19CvkGjYpifkdwgVJSbog2</td>\n",
              "      <td>https://open.spotify.com/album/19CvkGjYpifkdwg...</td>\n",
              "    </tr>\n",
              "    <tr>\n",
              "      <th>3</th>\n",
              "      <td>A Head Full of Dreams</td>\n",
              "      <td>2015-12-04</td>\n",
              "      <td>3cfAM8b8KqJRoIzt3zLKqw</td>\n",
              "      <td>https://open.spotify.com/album/3cfAM8b8KqJRoIz...</td>\n",
              "    </tr>\n",
              "    <tr>\n",
              "      <th>7</th>\n",
              "      <td>Mylo Xyloto</td>\n",
              "      <td>2011-10-24</td>\n",
              "      <td>2R7iJz5uaHjLEVnMkloO18</td>\n",
              "      <td>https://open.spotify.com/album/2R7iJz5uaHjLEVn...</td>\n",
              "    </tr>\n",
              "    <tr>\n",
              "      <th>8</th>\n",
              "      <td>LeftRightLeftRightLeft (Live)</td>\n",
              "      <td>2009-05-15</td>\n",
              "      <td>3pboBm7GTa6V5dFXXCt52b</td>\n",
              "      <td>https://open.spotify.com/album/3pboBm7GTa6V5dF...</td>\n",
              "    </tr>\n",
              "  </tbody>\n",
              "</table>\n",
              "</div>\n",
              "    <div class=\"colab-df-buttons\">\n",
              "\n",
              "  <div class=\"colab-df-container\">\n",
              "    <button class=\"colab-df-convert\" onclick=\"convertToInteractive('df-2fefaa01-e8e2-4aa6-8cf4-a3a97fd83191')\"\n",
              "            title=\"Convert this dataframe to an interactive table.\"\n",
              "            style=\"display:none;\">\n",
              "\n",
              "  <svg xmlns=\"http://www.w3.org/2000/svg\" height=\"24px\" viewBox=\"0 -960 960 960\">\n",
              "    <path d=\"M120-120v-720h720v720H120Zm60-500h600v-160H180v160Zm220 220h160v-160H400v160Zm0 220h160v-160H400v160ZM180-400h160v-160H180v160Zm440 0h160v-160H620v160ZM180-180h160v-160H180v160Zm440 0h160v-160H620v160Z\"/>\n",
              "  </svg>\n",
              "    </button>\n",
              "\n",
              "  <style>\n",
              "    .colab-df-container {\n",
              "      display:flex;\n",
              "      gap: 12px;\n",
              "    }\n",
              "\n",
              "    .colab-df-convert {\n",
              "      background-color: #E8F0FE;\n",
              "      border: none;\n",
              "      border-radius: 50%;\n",
              "      cursor: pointer;\n",
              "      display: none;\n",
              "      fill: #1967D2;\n",
              "      height: 32px;\n",
              "      padding: 0 0 0 0;\n",
              "      width: 32px;\n",
              "    }\n",
              "\n",
              "    .colab-df-convert:hover {\n",
              "      background-color: #E2EBFA;\n",
              "      box-shadow: 0px 1px 2px rgba(60, 64, 67, 0.3), 0px 1px 3px 1px rgba(60, 64, 67, 0.15);\n",
              "      fill: #174EA6;\n",
              "    }\n",
              "\n",
              "    .colab-df-buttons div {\n",
              "      margin-bottom: 4px;\n",
              "    }\n",
              "\n",
              "    [theme=dark] .colab-df-convert {\n",
              "      background-color: #3B4455;\n",
              "      fill: #D2E3FC;\n",
              "    }\n",
              "\n",
              "    [theme=dark] .colab-df-convert:hover {\n",
              "      background-color: #434B5C;\n",
              "      box-shadow: 0px 1px 3px 1px rgba(0, 0, 0, 0.15);\n",
              "      filter: drop-shadow(0px 1px 2px rgba(0, 0, 0, 0.3));\n",
              "      fill: #FFFFFF;\n",
              "    }\n",
              "  </style>\n",
              "\n",
              "    <script>\n",
              "      const buttonEl =\n",
              "        document.querySelector('#df-2fefaa01-e8e2-4aa6-8cf4-a3a97fd83191 button.colab-df-convert');\n",
              "      buttonEl.style.display =\n",
              "        google.colab.kernel.accessAllowed ? 'block' : 'none';\n",
              "\n",
              "      async function convertToInteractive(key) {\n",
              "        const element = document.querySelector('#df-2fefaa01-e8e2-4aa6-8cf4-a3a97fd83191');\n",
              "        const dataTable =\n",
              "          await google.colab.kernel.invokeFunction('convertToInteractive',\n",
              "                                                    [key], {});\n",
              "        if (!dataTable) return;\n",
              "\n",
              "        const docLinkHtml = 'Like what you see? Visit the ' +\n",
              "          '<a target=\"_blank\" href=https://colab.research.google.com/notebooks/data_table.ipynb>data table notebook</a>'\n",
              "          + ' to learn more about interactive tables.';\n",
              "        element.innerHTML = '';\n",
              "        dataTable['output_type'] = 'display_data';\n",
              "        await google.colab.output.renderOutput(dataTable, element);\n",
              "        const docLink = document.createElement('div');\n",
              "        docLink.innerHTML = docLinkHtml;\n",
              "        element.appendChild(docLink);\n",
              "      }\n",
              "    </script>\n",
              "  </div>\n",
              "\n",
              "\n",
              "<div id=\"df-c65746d2-8814-4b4b-8757-182c40660567\">\n",
              "  <button class=\"colab-df-quickchart\" onclick=\"quickchart('df-c65746d2-8814-4b4b-8757-182c40660567')\"\n",
              "            title=\"Suggest charts\"\n",
              "            style=\"display:none;\">\n",
              "\n",
              "<svg xmlns=\"http://www.w3.org/2000/svg\" height=\"24px\"viewBox=\"0 0 24 24\"\n",
              "     width=\"24px\">\n",
              "    <g>\n",
              "        <path d=\"M19 3H5c-1.1 0-2 .9-2 2v14c0 1.1.9 2 2 2h14c1.1 0 2-.9 2-2V5c0-1.1-.9-2-2-2zM9 17H7v-7h2v7zm4 0h-2V7h2v10zm4 0h-2v-4h2v4z\"/>\n",
              "    </g>\n",
              "</svg>\n",
              "  </button>\n",
              "\n",
              "<style>\n",
              "  .colab-df-quickchart {\n",
              "      --bg-color: #E8F0FE;\n",
              "      --fill-color: #1967D2;\n",
              "      --hover-bg-color: #E2EBFA;\n",
              "      --hover-fill-color: #174EA6;\n",
              "      --disabled-fill-color: #AAA;\n",
              "      --disabled-bg-color: #DDD;\n",
              "  }\n",
              "\n",
              "  [theme=dark] .colab-df-quickchart {\n",
              "      --bg-color: #3B4455;\n",
              "      --fill-color: #D2E3FC;\n",
              "      --hover-bg-color: #434B5C;\n",
              "      --hover-fill-color: #FFFFFF;\n",
              "      --disabled-bg-color: #3B4455;\n",
              "      --disabled-fill-color: #666;\n",
              "  }\n",
              "\n",
              "  .colab-df-quickchart {\n",
              "    background-color: var(--bg-color);\n",
              "    border: none;\n",
              "    border-radius: 50%;\n",
              "    cursor: pointer;\n",
              "    display: none;\n",
              "    fill: var(--fill-color);\n",
              "    height: 32px;\n",
              "    padding: 0;\n",
              "    width: 32px;\n",
              "  }\n",
              "\n",
              "  .colab-df-quickchart:hover {\n",
              "    background-color: var(--hover-bg-color);\n",
              "    box-shadow: 0 1px 2px rgba(60, 64, 67, 0.3), 0 1px 3px 1px rgba(60, 64, 67, 0.15);\n",
              "    fill: var(--button-hover-fill-color);\n",
              "  }\n",
              "\n",
              "  .colab-df-quickchart-complete:disabled,\n",
              "  .colab-df-quickchart-complete:disabled:hover {\n",
              "    background-color: var(--disabled-bg-color);\n",
              "    fill: var(--disabled-fill-color);\n",
              "    box-shadow: none;\n",
              "  }\n",
              "\n",
              "  .colab-df-spinner {\n",
              "    border: 2px solid var(--fill-color);\n",
              "    border-color: transparent;\n",
              "    border-bottom-color: var(--fill-color);\n",
              "    animation:\n",
              "      spin 1s steps(1) infinite;\n",
              "  }\n",
              "\n",
              "  @keyframes spin {\n",
              "    0% {\n",
              "      border-color: transparent;\n",
              "      border-bottom-color: var(--fill-color);\n",
              "      border-left-color: var(--fill-color);\n",
              "    }\n",
              "    20% {\n",
              "      border-color: transparent;\n",
              "      border-left-color: var(--fill-color);\n",
              "      border-top-color: var(--fill-color);\n",
              "    }\n",
              "    30% {\n",
              "      border-color: transparent;\n",
              "      border-left-color: var(--fill-color);\n",
              "      border-top-color: var(--fill-color);\n",
              "      border-right-color: var(--fill-color);\n",
              "    }\n",
              "    40% {\n",
              "      border-color: transparent;\n",
              "      border-right-color: var(--fill-color);\n",
              "      border-top-color: var(--fill-color);\n",
              "    }\n",
              "    60% {\n",
              "      border-color: transparent;\n",
              "      border-right-color: var(--fill-color);\n",
              "    }\n",
              "    80% {\n",
              "      border-color: transparent;\n",
              "      border-right-color: var(--fill-color);\n",
              "      border-bottom-color: var(--fill-color);\n",
              "    }\n",
              "    90% {\n",
              "      border-color: transparent;\n",
              "      border-bottom-color: var(--fill-color);\n",
              "    }\n",
              "  }\n",
              "</style>\n",
              "\n",
              "  <script>\n",
              "    async function quickchart(key) {\n",
              "      const quickchartButtonEl =\n",
              "        document.querySelector('#' + key + ' button');\n",
              "      quickchartButtonEl.disabled = true;  // To prevent multiple clicks.\n",
              "      quickchartButtonEl.classList.add('colab-df-spinner');\n",
              "      try {\n",
              "        const charts = await google.colab.kernel.invokeFunction(\n",
              "            'suggestCharts', [key], {});\n",
              "      } catch (error) {\n",
              "        console.error('Error during call to suggestCharts:', error);\n",
              "      }\n",
              "      quickchartButtonEl.classList.remove('colab-df-spinner');\n",
              "      quickchartButtonEl.classList.add('colab-df-quickchart-complete');\n",
              "    }\n",
              "    (() => {\n",
              "      let quickchartButtonEl =\n",
              "        document.querySelector('#df-c65746d2-8814-4b4b-8757-182c40660567 button');\n",
              "      quickchartButtonEl.style.display =\n",
              "        google.colab.kernel.accessAllowed ? 'block' : 'none';\n",
              "    })();\n",
              "  </script>\n",
              "</div>\n",
              "    </div>\n",
              "  </div>\n"
            ]
          },
          "metadata": {},
          "execution_count": 72
        }
      ]
    },
    {
      "cell_type": "markdown",
      "metadata": {
        "id": "Nepa2iEoI2aq"
      },
      "source": [
        "### **Corrigindo dados duplicados**"
      ]
    },
    {
      "cell_type": "markdown",
      "metadata": {
        "id": "pZ8_w_XkR1H3"
      },
      "source": [
        "Outra tarefa importante da etapa de limpeza e preparação de dados é a correção de dados duplicados, por mais que esse dataset do spotify do artista Coldplay não possua dados duplicados, é comum encontrar em alguns conjuntos de dados. Os valores duplicados na maioria dos conjuntos de dados são encontrados com frequência e dependendo da análise que será feita, esses valores podem alterar o resultado final."
      ]
    },
    {
      "cell_type": "markdown",
      "metadata": {
        "id": "EUKrBfxQAXzW"
      },
      "source": [
        "#### **Verificando valores duplicados**"
      ]
    },
    {
      "cell_type": "markdown",
      "metadata": {
        "id": "u6jP13AqAeCf"
      },
      "source": [
        "Por se tratar de um dataset com diversas músicas e números, é importante verificar se o dataset possui dados duplicados, para que a análise e os insights não sejam interferidos. Para identificar a presença de outliers, irei utilizar o método duplicated() que devolve uma Series booleana informando True se possui algum valor duplicado e False caso contrário."
      ]
    },
    {
      "cell_type": "code",
      "metadata": {
        "id": "spYdCRZdALh6",
        "outputId": "c3413b05-95bf-40d3-824a-fd33da359e52",
        "colab": {
          "base_uri": "https://localhost:8080/"
        }
      },
      "source": [
        "#Verificando valores duplicados\n",
        "df.duplicated().value_counts()"
      ],
      "execution_count": null,
      "outputs": [
        {
          "output_type": "execute_result",
          "data": {
            "text/plain": [
              "False    15\n",
              "dtype: int64"
            ]
          },
          "metadata": {},
          "execution_count": 71
        }
      ]
    },
    {
      "cell_type": "markdown",
      "metadata": {
        "id": "gi1AnCn2A5lb"
      },
      "source": [
        "O dataset não possui dados duplicados como mencionado anteriormente, porém, caso fosse identificado a presença de dados duplicados, seria necessário remover todos os valores repetidos, fazendo o uso do método drop_duplicates()."
      ]
    },
    {
      "cell_type": "markdown",
      "metadata": {
        "id": "WiuMU5_PSMYt"
      },
      "source": [
        "### **Outliers**"
      ]
    },
    {
      "cell_type": "markdown",
      "metadata": {
        "id": "ov_g9htZSOvE"
      },
      "source": [
        "Os outliers, são os famosos \"pontos fora da curva\" ou observações que não parecem seguir o mesmo padrão dos demais dados. Normalmente acarretados de distribuições diferentes, serem erros da coleta de dados, como aqui já foi visto, erros de medição ou outro fator. Identificar e tratar os outliers é de suma importância, devido que os outliers influenciam diretamente nas análises e nos algoritmos, ao apresentar comportamento distoante do resto do data set. Impactando tanto na média, como na variância, funções de perda e custo."
      ]
    },
    {
      "cell_type": "markdown",
      "metadata": {
        "id": "i4y4BM9R_8vg"
      },
      "source": [
        "Após os outliers terem sido identificados, sua remoção ou transformação só deve ser feita se realmente fizer sentido, logo, deve ser levado em consideração que alguns outliers são dados autenticos e devem ser estudados com atenção, para saber se de fato deve ser feita sua remoção."
      ]
    },
    {
      "cell_type": "markdown",
      "metadata": {
        "id": "wYvTnDrzMP5O"
      },
      "source": [
        "##**Gravar arquivo CSV do notebook para criar aplicação/dashboard**"
      ]
    },
    {
      "cell_type": "markdown",
      "metadata": {
        "id": "S9OQOGItTss8"
      },
      "source": [
        "Agora irei gravar o notebook da análise em um arquivo no formato CSV para criar a aplicação/dashboard com Python."
      ]
    },
    {
      "cell_type": "code",
      "metadata": {
        "id": "c7KaO6dyT4ji"
      },
      "source": [
        "#Salvando o notebook em um arquivo no formato csv\n",
        "df.to_csv('projetoBigDataSpotify.csv')"
      ],
      "execution_count": null,
      "outputs": []
    },
    {
      "cell_type": "markdown",
      "metadata": {
        "id": "Hafu2xt4dj66"
      },
      "source": [
        "## **Referências**"
      ]
    },
    {
      "cell_type": "markdown",
      "metadata": {
        "id": "H6kUDADcCjKa"
      },
      "source": [
        "https://towardsdatascience.com/getting-started-to-data-analysis-with-python-pandas-with-titanic-dataset-a195ab043c77\n",
        "\n",
        "https://pt.qwe.wiki/wiki/Missing_data\n",
        "\n",
        "https://dandaramcsousa.github.io/2020/05/20/tutorial-api-spotify.html\n",
        "\n",
        "https://itl.nist.gov/div898/handbook/eda/eda.htm\n",
        "\n"
      ]
    }
  ]
}